{
 "cells": [
  {
   "cell_type": "code",
   "execution_count": 1,
   "id": "72f3ac41",
   "metadata": {},
   "outputs": [],
   "source": [
    "import numpy as np\n",
    "import pandas as pd"
   ]
  },
  {
   "cell_type": "markdown",
   "id": "4ba45397",
   "metadata": {},
   "source": [
    "## Understanding the maths behind the LDA using simple maths"
   ]
  },
  {
   "cell_type": "markdown",
   "id": "85805db6",
   "metadata": {},
   "source": [
    "### Input Array"
   ]
  },
  {
   "cell_type": "code",
   "execution_count": 2,
   "id": "f7af5e69",
   "metadata": {},
   "outputs": [],
   "source": [
    "#define arrays for Class1 and class2\n",
    "class_1=np.array([[4,1],[2,4],[2,3],[3,6],[4,4]])\n",
    "class_2=np.array([[9,10],[6,8],[9,5],[8,7],[10,8]])"
   ]
  },
  {
   "cell_type": "markdown",
   "id": "562437dd",
   "metadata": {},
   "source": [
    "### Calculate the mean of the input array in 2 Dimensions"
   ]
  },
  {
   "cell_type": "code",
   "execution_count": 3,
   "id": "cb7b0e68",
   "metadata": {},
   "outputs": [],
   "source": [
    "mu1 = class_1.mean(axis=0)\n",
    "mu2 = class_2.mean(axis=0)"
   ]
  },
  {
   "cell_type": "markdown",
   "id": "5b66d898",
   "metadata": {},
   "source": [
    "### Calculate the Covariance matrix"
   ]
  },
  {
   "cell_type": "code",
   "execution_count": 4,
   "id": "05bac274",
   "metadata": {},
   "outputs": [],
   "source": [
    "def covariance_matrix(input_matrix):\n",
    "    N= len(input_matrix)\n",
    "    mu = input_matrix.mean(axis=0)\n",
    "    cov_mat = np.dot((input_matrix-mu).T,input_matrix-mu)/N\n",
    "    return cov_mat"
   ]
  },
  {
   "cell_type": "code",
   "execution_count": 5,
   "id": "dbe1d65f",
   "metadata": {},
   "outputs": [],
   "source": [
    "s1 = covariance_matrix(class_1)\n",
    "s2 = covariance_matrix(class_2)"
   ]
  },
  {
   "cell_type": "markdown",
   "id": "31d1fe7f",
   "metadata": {},
   "source": [
    "### Within class scatter matrix "
   ]
  },
  {
   "cell_type": "code",
   "execution_count": 6,
   "id": "d1ed19cd",
   "metadata": {},
   "outputs": [],
   "source": [
    "#within class scattermatrix = s1+s2\n",
    "sw = s1+s2"
   ]
  },
  {
   "cell_type": "code",
   "execution_count": 7,
   "id": "7d9664f5",
   "metadata": {},
   "outputs": [],
   "source": [
    "#between class scatter matrix\n",
    "mu1=mu1.reshape(-1,1)\n",
    "mu2=mu2.reshape(-1,1)"
   ]
  },
  {
   "cell_type": "markdown",
   "id": "80a464a1",
   "metadata": {},
   "source": [
    "### Between class scatter matrix"
   ]
  },
  {
   "cell_type": "code",
   "execution_count": 8,
   "id": "62dbb899",
   "metadata": {},
   "outputs": [],
   "source": [
    "sb = np.dot((mu1-mu2),((mu1-mu2).T))"
   ]
  },
  {
   "cell_type": "markdown",
   "id": "8b90a383",
   "metadata": {},
   "source": [
    "### Solving the generalized eigenvalue problem for the matrix SW inv * SB"
   ]
  },
  {
   "cell_type": "code",
   "execution_count": 9,
   "id": "de5bb77f",
   "metadata": {},
   "outputs": [
    {
     "data": {
      "text/plain": [
       "(array([ 1.56568502e+01, -4.44089210e-16]),\n",
       " array([[ 0.91955932, -0.59522755],\n",
       "        [ 0.39295122,  0.80355719]]))"
      ]
     },
     "execution_count": 9,
     "metadata": {},
     "output_type": "execute_result"
    }
   ],
   "source": [
    "np.linalg.eig(np.linalg.inv(sw).dot(sb))"
   ]
  },
  {
   "cell_type": "code",
   "execution_count": 10,
   "id": "d5a907b7",
   "metadata": {},
   "outputs": [
    {
     "name": "stdout",
     "output_type": "stream",
     "text": [
      "\n",
      "Eigenvector 1: \n",
      "[[0.91955932]\n",
      " [0.39295122]]\n",
      "Eigenvalue 1: 1.57e+01\n",
      "\n",
      "Eigenvector 2: \n",
      "[[-0.59522755]\n",
      " [ 0.80355719]]\n",
      "Eigenvalue 2: -4.44e-16\n"
     ]
    }
   ],
   "source": [
    "eig_vals, eig_vecs = np.linalg.eig(np.linalg.inv(sw).dot(sb))\n",
    "for i in range(len(eig_vals)):\n",
    "    eigvec_sc = eig_vecs[:,i].reshape(2,1)   \n",
    "    print('\\nEigenvector {}: \\n{}'.format(i+1, eigvec_sc.real))\n",
    "    print('Eigenvalue {:}: {:.2e}'.format(i+1, eig_vals[i].real))"
   ]
  },
  {
   "cell_type": "code",
   "execution_count": 11,
   "id": "71b2170c",
   "metadata": {},
   "outputs": [
    {
     "data": {
      "text/plain": [
       "array([[ 0.91955932, -0.59522755],\n",
       "       [ 0.39295122,  0.80355719]])"
      ]
     },
     "execution_count": 11,
     "metadata": {},
     "output_type": "execute_result"
    }
   ],
   "source": [
    "eig_vecs[:,:]"
   ]
  },
  {
   "cell_type": "markdown",
   "id": "4f2dd98a",
   "metadata": {},
   "source": [
    "### Transforming the samples onto the new subspace"
   ]
  },
  {
   "cell_type": "code",
   "execution_count": 12,
   "id": "13556cd0",
   "metadata": {},
   "outputs": [],
   "source": [
    "class_1_output = np.dot(class_1,eig_vecs[:,0])"
   ]
  },
  {
   "cell_type": "code",
   "execution_count": 13,
   "id": "09909246",
   "metadata": {},
   "outputs": [],
   "source": [
    "class_2_output = np.dot(class_2,eig_vecs[:,0])"
   ]
  },
  {
   "cell_type": "code",
   "execution_count": 14,
   "id": "6471c0a0",
   "metadata": {},
   "outputs": [
    {
     "data": {
      "text/plain": [
       "array([4.07118849, 3.41092352, 3.0179723 , 5.11638527, 5.25004215])"
      ]
     },
     "execution_count": 14,
     "metadata": {},
     "output_type": "execute_result"
    }
   ],
   "source": [
    "class_1_output"
   ]
  },
  {
   "cell_type": "markdown",
   "id": "540591ac",
   "metadata": {},
   "source": [
    "## Plotting input and output"
   ]
  },
  {
   "cell_type": "code",
   "execution_count": 15,
   "id": "cdcb46c3",
   "metadata": {},
   "outputs": [],
   "source": [
    "import matplotlib.pyplot as plt\n",
    "import seaborn as sns"
   ]
  },
  {
   "cell_type": "code",
   "execution_count": 16,
   "id": "00d76e1e",
   "metadata": {},
   "outputs": [
    {
     "data": {
      "text/plain": [
       "<matplotlib.collections.PathCollection at 0x1b77655cd90>"
      ]
     },
     "execution_count": 16,
     "metadata": {},
     "output_type": "execute_result"
    },
    {
     "data": {
      "image/png": "[encoded data removed]",
      "text/plain": [
       "<Figure size 432x288 with 1 Axes>"
      ]
     },
     "metadata": {
      "needs_background": "light"
     },
     "output_type": "display_data"
    }
   ],
   "source": [
    "plt.scatter(class_1[:,0],class_1[:,1],marker='*',c='red')\n",
    "plt.scatter(class_2[:,0],class_2[:,1],marker='*',c='blue')"
   ]
  },
  {
   "cell_type": "code",
   "execution_count": 17,
   "id": "5e132bae",
   "metadata": {},
   "outputs": [
    {
     "data": {
      "text/plain": [
       "[<matplotlib.lines.Line2D at 0x1b77665fb80>]"
      ]
     },
     "execution_count": 17,
     "metadata": {},
     "output_type": "execute_result"
    },
    {
     "data": {
      "image/png": "[encoded data removed]",
      "text/plain": [
       "<Figure size 432x288 with 1 Axes>"
      ]
     },
     "metadata": {
      "needs_background": "light"
     },
     "output_type": "display_data"
    }
   ],
   "source": [
    "plt.plot(class_1_output[:],[0,0,0,0,0],marker='o',c='red')\n",
    "plt.plot(class_2_output[:],[0,0,0,0,0],marker='*',c='blue')"
   ]
  }
 ],
 "metadata": {
  "kernelspec": {
   "display_name": "Python 3 (ipykernel)",
   "language": "python",
   "name": "python3"
  },
  "language_info": {
   "codemirror_mode": {
    "name": "ipython",
    "version": 3
   },
   "file_extension": ".py",
   "mimetype": "text/x-python",
   "name": "python",
   "nbconvert_exporter": "python",
   "pygments_lexer": "ipython3",
   "version": "3.9.12"
  }
 },
 "nbformat": 4,
 "nbformat_minor": 5
}
