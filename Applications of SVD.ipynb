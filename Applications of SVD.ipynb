{
 "cells": [
  {
   "cell_type": "markdown",
   "id": "813e8340",
   "metadata": {},
   "source": [
    "Mathematical understanding of SVD\n",
    ">uses:\n",
    "    Psudoinv calculation\n",
    "    Dimensionality reduction using manual method as well as Sklearn Truncated SVD"
   ]
  },
  {
   "cell_type": "markdown",
   "id": "7c22d5d4",
   "metadata": {},
   "source": [
    "## Basic understanding of SVD"
   ]
  },
  {
   "cell_type": "raw",
   "id": "9b1e7c11",
   "metadata": {},
   "source": [
    "> A m*n\n",
    "> U m*m\n",
    "> s m*n\n",
    "> VT n*n"
   ]
  },
  {
   "cell_type": "code",
   "execution_count": 1,
   "id": "fc8a5845",
   "metadata": {},
   "outputs": [],
   "source": [
    "import numpy as np\n",
    "from scipy import linalg"
   ]
  },
  {
   "cell_type": "code",
   "execution_count": 2,
   "id": "a1e80250",
   "metadata": {},
   "outputs": [
    {
     "name": "stdout",
     "output_type": "stream",
     "text": [
      "[[1 2]\n",
      " [3 4]\n",
      " [5 6]]\n"
     ]
    }
   ],
   "source": [
    "A = np.array([[1,2],[3,4],[5,6]])\n",
    "print(A) #3*2"
   ]
  },
  {
   "cell_type": "code",
   "execution_count": 3,
   "id": "811695b9",
   "metadata": {},
   "outputs": [],
   "source": [
    "U,s,VT = linalg.svd(A)"
   ]
  },
  {
   "cell_type": "code",
   "execution_count": 4,
   "id": "1e75ebf5",
   "metadata": {},
   "outputs": [
    {
     "name": "stdout",
     "output_type": "stream",
     "text": [
      "[[-0.2298477   0.88346102  0.40824829]\n",
      " [-0.52474482  0.24078249 -0.81649658]\n",
      " [-0.81964194 -0.40189603  0.40824829]]\n"
     ]
    }
   ],
   "source": [
    "print(U) #3*3"
   ]
  },
  {
   "cell_type": "code",
   "execution_count": 5,
   "id": "729e97dc",
   "metadata": {},
   "outputs": [
    {
     "name": "stdout",
     "output_type": "stream",
     "text": [
      "[9.52551809 0.51430058]\n"
     ]
    }
   ],
   "source": [
    "print(s) #this should be 3*2"
   ]
  },
  {
   "cell_type": "code",
   "execution_count": 6,
   "id": "94faad99",
   "metadata": {},
   "outputs": [
    {
     "data": {
      "text/plain": [
       "array([[0., 0.],\n",
       "       [0., 0.],\n",
       "       [0., 0.]])"
      ]
     },
     "execution_count": 6,
     "metadata": {},
     "output_type": "execute_result"
    }
   ],
   "source": [
    "# first create a sigma of the shape m*n\n",
    "Sigma = np.zeros((A.shape[0],A.shape[1]))\n",
    "Sigma"
   ]
  },
  {
   "cell_type": "code",
   "execution_count": 7,
   "id": "b5124044",
   "metadata": {
    "scrolled": true
   },
   "outputs": [
    {
     "data": {
      "text/plain": [
       "array([[9.52551809, 0.        ],\n",
       "       [0.        , 0.51430058],\n",
       "       [0.        , 0.        ]])"
      ]
     },
     "execution_count": 7,
     "metadata": {},
     "output_type": "execute_result"
    }
   ],
   "source": [
    "# populate Sigma with n x n diagonal matrix\n",
    "#Sigma[:n,:n]\n",
    "Sigma[:A.shape[1], :A.shape[1]] = np.diag(s)\n",
    "Sigma"
   ]
  },
  {
   "cell_type": "code",
   "execution_count": 8,
   "id": "564e6968",
   "metadata": {},
   "outputs": [
    {
     "name": "stdout",
     "output_type": "stream",
     "text": [
      "[[-0.61962948 -0.78489445]\n",
      " [-0.78489445  0.61962948]]\n"
     ]
    }
   ],
   "source": [
    "print(VT) #this should be 2*2"
   ]
  },
  {
   "cell_type": "code",
   "execution_count": 9,
   "id": "1c992672",
   "metadata": {},
   "outputs": [
    {
     "data": {
      "text/plain": [
       "array([[1., 2.],\n",
       "       [3., 4.],\n",
       "       [5., 6.]])"
      ]
     },
     "execution_count": 9,
     "metadata": {},
     "output_type": "execute_result"
    }
   ],
   "source": [
    "#reconstruct A using U,SIgma and VT\n",
    "A_reconstrcuted = np.dot(U,np.dot(Sigma,VT))\n",
    "A_reconstrcuted"
   ]
  },
  {
   "cell_type": "raw",
   "id": "55ae735f",
   "metadata": {},
   "source": [
    "> A= A_reconstrcuted\n",
    "> we are able to decompose a Matrix into U sigma and VT\n",
    "> and then reconstruct the original matrix from them"
   ]
  },
  {
   "cell_type": "markdown",
   "id": "51b24f44",
   "metadata": {},
   "source": [
    "When A is a square matrix then reconstrut the sigma using\n",
    "Sigma = diag(s)"
   ]
  },
  {
   "cell_type": "markdown",
   "id": "8fe312f7",
   "metadata": {},
   "source": [
    "## SVD is also used for calculating the Pseudo Inverse"
   ]
  },
  {
   "cell_type": "markdown",
   "id": "c5073cb5",
   "metadata": {},
   "source": [
    "A = U . Sigma . V^T\n",
    "We can get U and V from the SVD operation."
   ]
  },
  {
   "cell_type": "raw",
   "id": "75f339be",
   "metadata": {},
   "source": [
    "Usually we can calculate the inverse for a square matrix\n",
    "Pesudo Inverse is a inverse calculated for a rectangular matrix\n",
    "\n",
    "SVD FOR CALCULATING PSUDO INVERSE\n",
    "A^+ = V . D^+ . U^T\n",
    "A^+ is the pseudoinverse, D^+ is the pseudoinverse of the diagonal matrix Sigma and U^T is the transpose of U."
   ]
  },
  {
   "cell_type": "code",
   "execution_count": null,
   "id": "80303505",
   "metadata": {},
   "outputs": [],
   "source": [
    "The D^+ can be calculated by creating a diagonal matrix from Sigma, \n",
    "calculating the reciprocal of each non-zero element in Sigma,\n",
    "and taking the transpose if the original matrix was rectangular."
   ]
  },
  {
   "cell_type": "code",
   "execution_count": null,
   "id": "780dda0b",
   "metadata": {},
   "outputs": [],
   "source": [
    "         s11,   0,   0\n",
    "Sigma = (  0, s22,   0)\n",
    "           0,   0, s33\n",
    "    \n",
    "       1/s11,     0,     0\n",
    "D^+ = (    0, 1/s22,     0)\n",
    "           0,     0, 1/s33"
   ]
  },
  {
   "cell_type": "code",
   "execution_count": 13,
   "id": "35b59f8d",
   "metadata": {},
   "outputs": [
    {
     "name": "stdout",
     "output_type": "stream",
     "text": [
      "[[0.1 0.2]\n",
      " [0.3 0.4]\n",
      " [0.5 0.6]\n",
      " [0.7 0.8]]\n",
      "Pseudo Inverse of A\n",
      " [[-1.00000000e+01 -5.00000000e+00  9.02056208e-15  5.00000000e+00]\n",
      " [ 8.50000000e+00  4.50000000e+00  5.00000000e-01 -3.50000000e+00]]\n"
     ]
    }
   ],
   "source": [
    "# NumPy provides the function pinv() for calculating the pseudoinverse of a rectangular matrix.\n",
    "# Pseudoinverse\n",
    "\n",
    "# define matrix\n",
    "A = array([\n",
    " [0.1, 0.2],\n",
    " [0.3, 0.4],\n",
    " [0.5, 0.6],\n",
    " [0.7, 0.8]])\n",
    "print(A)\n",
    "# calculate pseudoinverse\n",
    "B = linalg.pinv(A)\n",
    "print(\"Pseudo Inverse of A\\n\",B)"
   ]
  },
  {
   "cell_type": "markdown",
   "id": "c25d1821",
   "metadata": {},
   "source": [
    "## We can calculate the pseudoinverse manually via the SVD and compare the results to the pinv() function."
   ]
  },
  {
   "cell_type": "code",
   "execution_count": 14,
   "id": "ee109cfc",
   "metadata": {},
   "outputs": [
    {
     "name": "stdout",
     "output_type": "stream",
     "text": [
      "A:\n",
      " [[0.1 0.2]\n",
      " [0.3 0.4]\n",
      " [0.5 0.6]\n",
      " [0.7 0.8]]\n",
      "S:\n",
      " [1.42690955 0.06268282]\n"
     ]
    }
   ],
   "source": [
    "print(\"A:\\n\",A)\n",
    "U,S,VT = linalg.svd(A)\n",
    "print(\"S:\\n\",S)"
   ]
  },
  {
   "cell_type": "code",
   "execution_count": 15,
   "id": "00dc26cd",
   "metadata": {},
   "outputs": [],
   "source": [
    "sigma = np.zeros((A.shape[0],A.shape[1]))\n",
    "#Construct the diagnol matrix using the reciprocal of S\n",
    "sigma[:A.shape[1],:A.shape[1]] = np.diag(1/S)"
   ]
  },
  {
   "cell_type": "code",
   "execution_count": 16,
   "id": "8e6abf1f",
   "metadata": {},
   "outputs": [
    {
     "data": {
      "text/plain": [
       "array([[-1.00000000e+01, -5.00000000e+00,  9.07607323e-15,\n",
       "         5.00000000e+00],\n",
       "       [ 8.50000000e+00,  4.50000000e+00,  5.00000000e-01,\n",
       "        -3.50000000e+00]])"
      ]
     },
     "execution_count": 16,
     "metadata": {},
     "output_type": "execute_result"
    }
   ],
   "source": [
    "#A_psudo_inv = U_dash*d_dash*V_dash\n",
    "A_psudo_inv = np.dot(VT.T,np.dot(sigma.T,U.T))\n",
    "A_psudo_inv"
   ]
  },
  {
   "cell_type": "code",
   "execution_count": 17,
   "id": "00ef59ff",
   "metadata": {},
   "outputs": [
    {
     "data": {
      "text/plain": [
       "array([[-1.00000000e+01, -5.00000000e+00,  9.02056208e-15,\n",
       "         5.00000000e+00],\n",
       "       [ 8.50000000e+00,  4.50000000e+00,  5.00000000e-01,\n",
       "        -3.50000000e+00]])"
      ]
     },
     "execution_count": 17,
     "metadata": {},
     "output_type": "execute_result"
    }
   ],
   "source": [
    "B"
   ]
  },
  {
   "cell_type": "code",
   "execution_count": null,
   "id": "116635e6",
   "metadata": {},
   "outputs": [],
   "source": []
  },
  {
   "cell_type": "markdown",
   "id": "80376c5a",
   "metadata": {},
   "source": [
    "## SVD for Dimensionality Reduction"
   ]
  },
  {
   "cell_type": "code",
   "execution_count": 18,
   "id": "2454a503",
   "metadata": {},
   "outputs": [
    {
     "name": "stdout",
     "output_type": "stream",
     "text": [
      "[[ 1  2  3  4  5  6  7  8  9 10]\n",
      " [11 12 13 14 15 16 17 18 19 20]\n",
      " [21 22 23 24 25 26 27 28 29 30]]\n",
      "Shape of A (3, 10)\n"
     ]
    }
   ],
   "source": [
    "# define a matrix\n",
    "A = array([\n",
    " [1,2,3,4,5,6,7,8,9,10],\n",
    " [11,12,13,14,15,16,17,18,19,20],\n",
    " [21,22,23,24,25,26,27,28,29,30]])\n",
    "print(A)\n",
    "print(\"Shape of A\",(A.shape))"
   ]
  },
  {
   "cell_type": "code",
   "execution_count": 19,
   "id": "29078412",
   "metadata": {},
   "outputs": [
    {
     "name": "stdout",
     "output_type": "stream",
     "text": [
      "Shape of U (3, 3)\n",
      "Shape of s (3,)\n",
      "Shape of VT (10, 10)\n"
     ]
    }
   ],
   "source": [
    "U,s,VT = linalg.svd(A)\n",
    "print(\"Shape of U\",(U.shape))\n",
    "print(\"Shape of s\",(s.shape))\n",
    "print(\"Shape of VT\",(VT.shape))"
   ]
  },
  {
   "cell_type": "code",
   "execution_count": 20,
   "id": "5327bc33",
   "metadata": {},
   "outputs": [],
   "source": [
    "#create a sigma matrix with zeros\n",
    "sigma = np.zeros(A.shape)\n",
    "sigma[:A.shape[0],:A.shape[0]] = np.diag(s)"
   ]
  },
  {
   "cell_type": "code",
   "execution_count": 21,
   "id": "022d0a86",
   "metadata": {},
   "outputs": [
    {
     "data": {
      "text/html": [
       "<div>\n",
       "<style scoped>\n",
       "    .dataframe tbody tr th:only-of-type {\n",
       "        vertical-align: middle;\n",
       "    }\n",
       "\n",
       "    .dataframe tbody tr th {\n",
       "        vertical-align: top;\n",
       "    }\n",
       "\n",
       "    .dataframe thead th {\n",
       "        text-align: right;\n",
       "    }\n",
       "</style>\n",
       "<table border=\"1\" class=\"dataframe\">\n",
       "  <thead>\n",
       "    <tr style=\"text-align: right;\">\n",
       "      <th></th>\n",
       "      <th>0</th>\n",
       "      <th>1</th>\n",
       "      <th>2</th>\n",
       "      <th>3</th>\n",
       "      <th>4</th>\n",
       "      <th>5</th>\n",
       "      <th>6</th>\n",
       "      <th>7</th>\n",
       "      <th>8</th>\n",
       "      <th>9</th>\n",
       "    </tr>\n",
       "  </thead>\n",
       "  <tbody>\n",
       "    <tr>\n",
       "      <th>0</th>\n",
       "      <td>96.965734</td>\n",
       "      <td>0.000000</td>\n",
       "      <td>0.000000e+00</td>\n",
       "      <td>0.0</td>\n",
       "      <td>0.0</td>\n",
       "      <td>0.0</td>\n",
       "      <td>0.0</td>\n",
       "      <td>0.0</td>\n",
       "      <td>0.0</td>\n",
       "      <td>0.0</td>\n",
       "    </tr>\n",
       "    <tr>\n",
       "      <th>1</th>\n",
       "      <td>0.000000</td>\n",
       "      <td>7.255783</td>\n",
       "      <td>0.000000e+00</td>\n",
       "      <td>0.0</td>\n",
       "      <td>0.0</td>\n",
       "      <td>0.0</td>\n",
       "      <td>0.0</td>\n",
       "      <td>0.0</td>\n",
       "      <td>0.0</td>\n",
       "      <td>0.0</td>\n",
       "    </tr>\n",
       "    <tr>\n",
       "      <th>2</th>\n",
       "      <td>0.000000</td>\n",
       "      <td>0.000000</td>\n",
       "      <td>1.488795e-15</td>\n",
       "      <td>0.0</td>\n",
       "      <td>0.0</td>\n",
       "      <td>0.0</td>\n",
       "      <td>0.0</td>\n",
       "      <td>0.0</td>\n",
       "      <td>0.0</td>\n",
       "      <td>0.0</td>\n",
       "    </tr>\n",
       "  </tbody>\n",
       "</table>\n",
       "</div>"
      ],
      "text/plain": [
       "           0         1             2    3    4    5    6    7    8    9\n",
       "0  96.965734  0.000000  0.000000e+00  0.0  0.0  0.0  0.0  0.0  0.0  0.0\n",
       "1   0.000000  7.255783  0.000000e+00  0.0  0.0  0.0  0.0  0.0  0.0  0.0\n",
       "2   0.000000  0.000000  1.488795e-15  0.0  0.0  0.0  0.0  0.0  0.0  0.0"
      ]
     },
     "execution_count": 21,
     "metadata": {},
     "output_type": "execute_result"
    }
   ],
   "source": [
    "#visualising the sigma matrix\n",
    "import pandas as pd\n",
    "pd.DataFrame(sigma)"
   ]
  },
  {
   "cell_type": "code",
   "execution_count": 22,
   "id": "6b079629",
   "metadata": {},
   "outputs": [
    {
     "data": {
      "text/plain": [
       "(3, 2)"
      ]
     },
     "execution_count": 22,
     "metadata": {},
     "output_type": "execute_result"
    }
   ],
   "source": [
    "#select columns from sigma\n",
    "n_elements = 2\n",
    "sigma = sigma[:, :n_elements]\n",
    "sigma.shape"
   ]
  },
  {
   "cell_type": "code",
   "execution_count": 23,
   "id": "15b89778",
   "metadata": {},
   "outputs": [
    {
     "data": {
      "text/plain": [
       "(2, 10)"
      ]
     },
     "execution_count": 23,
     "metadata": {},
     "output_type": "execute_result"
    }
   ],
   "source": [
    "#select rows from VT\n",
    "VT = VT[:n_elements,:] \n",
    "VT.shape"
   ]
  },
  {
   "cell_type": "code",
   "execution_count": 24,
   "id": "1d427f11",
   "metadata": {},
   "outputs": [
    {
     "name": "stdout",
     "output_type": "stream",
     "text": [
      "(3, 10)\n"
     ]
    }
   ],
   "source": [
    "#reconstruct the matrix\n",
    "B = U.dot(sigma.dot(VT))\n",
    "print(B.shape)\n",
    "#A= 3*10\n",
    "#U = 3*3 \n",
    "#Sigma = 3*2\n",
    "#VT = 2*10"
   ]
  },
  {
   "cell_type": "code",
   "execution_count": 25,
   "id": "f4ba3819",
   "metadata": {
    "scrolled": true
   },
   "outputs": [
    {
     "name": "stdout",
     "output_type": "stream",
     "text": [
      "[[-18.52157747  -6.47697214]\n",
      " [-49.81310011  -1.91182038]\n",
      " [-81.10462276   2.65333138]]\n"
     ]
    }
   ],
   "source": [
    "# transform\n",
    "T = U.dot(sigma)\n",
    "print(T)"
   ]
  },
  {
   "cell_type": "code",
   "execution_count": 26,
   "id": "b7a2d093",
   "metadata": {},
   "outputs": [
    {
     "data": {
      "text/plain": [
       "array([[-18.52157747,  -6.47697214],\n",
       "       [-49.81310011,  -1.91182038],\n",
       "       [-81.10462276,   2.65333138]])"
      ]
     },
     "execution_count": 26,
     "metadata": {},
     "output_type": "execute_result"
    }
   ],
   "source": [
    "A.dot(VT.T)\n",
    "# U.sigma = A.VT.T (A dot VT transpose)"
   ]
  },
  {
   "cell_type": "markdown",
   "id": "fa249165",
   "metadata": {},
   "source": [
    "## Truncated SVD in SKLearn"
   ]
  },
  {
   "cell_type": "code",
   "execution_count": 27,
   "id": "41f4da3b",
   "metadata": {
    "scrolled": true
   },
   "outputs": [
    {
     "data": {
      "text/plain": [
       "array([[ 1,  2,  3,  4,  5,  6,  7,  8,  9, 10],\n",
       "       [11, 12, 13, 14, 15, 16, 17, 18, 19, 20],\n",
       "       [21, 22, 23, 24, 25, 26, 27, 28, 29, 30]])"
      ]
     },
     "execution_count": 27,
     "metadata": {},
     "output_type": "execute_result"
    }
   ],
   "source": [
    "A"
   ]
  },
  {
   "cell_type": "code",
   "execution_count": 28,
   "id": "6cdf5715",
   "metadata": {},
   "outputs": [
    {
     "data": {
      "text/html": [
       "<style>#sk-container-id-1 {color: black;background-color: white;}#sk-container-id-1 pre{padding: 0;}#sk-container-id-1 div.sk-toggleable {background-color: white;}#sk-container-id-1 label.sk-toggleable__label {cursor: pointer;display: block;width: 100%;margin-bottom: 0;padding: 0.3em;box-sizing: border-box;text-align: center;}#sk-container-id-1 label.sk-toggleable__label-arrow:before {content: \"▸\";float: left;margin-right: 0.25em;color: #696969;}#sk-container-id-1 label.sk-toggleable__label-arrow:hover:before {color: black;}#sk-container-id-1 div.sk-estimator:hover label.sk-toggleable__label-arrow:before {color: black;}#sk-container-id-1 div.sk-toggleable__content {max-height: 0;max-width: 0;overflow: hidden;text-align: left;background-color: #f0f8ff;}#sk-container-id-1 div.sk-toggleable__content pre {margin: 0.2em;color: black;border-radius: 0.25em;background-color: #f0f8ff;}#sk-container-id-1 input.sk-toggleable__control:checked~div.sk-toggleable__content {max-height: 200px;max-width: 100%;overflow: auto;}#sk-container-id-1 input.sk-toggleable__control:checked~label.sk-toggleable__label-arrow:before {content: \"▾\";}#sk-container-id-1 div.sk-estimator input.sk-toggleable__control:checked~label.sk-toggleable__label {background-color: #d4ebff;}#sk-container-id-1 div.sk-label input.sk-toggleable__control:checked~label.sk-toggleable__label {background-color: #d4ebff;}#sk-container-id-1 input.sk-hidden--visually {border: 0;clip: rect(1px 1px 1px 1px);clip: rect(1px, 1px, 1px, 1px);height: 1px;margin: -1px;overflow: hidden;padding: 0;position: absolute;width: 1px;}#sk-container-id-1 div.sk-estimator {font-family: monospace;background-color: #f0f8ff;border: 1px dotted black;border-radius: 0.25em;box-sizing: border-box;margin-bottom: 0.5em;}#sk-container-id-1 div.sk-estimator:hover {background-color: #d4ebff;}#sk-container-id-1 div.sk-parallel-item::after {content: \"\";width: 100%;border-bottom: 1px solid gray;flex-grow: 1;}#sk-container-id-1 div.sk-label:hover label.sk-toggleable__label {background-color: #d4ebff;}#sk-container-id-1 div.sk-serial::before {content: \"\";position: absolute;border-left: 1px solid gray;box-sizing: border-box;top: 0;bottom: 0;left: 50%;z-index: 0;}#sk-container-id-1 div.sk-serial {display: flex;flex-direction: column;align-items: center;background-color: white;padding-right: 0.2em;padding-left: 0.2em;position: relative;}#sk-container-id-1 div.sk-item {position: relative;z-index: 1;}#sk-container-id-1 div.sk-parallel {display: flex;align-items: stretch;justify-content: center;background-color: white;position: relative;}#sk-container-id-1 div.sk-item::before, #sk-container-id-1 div.sk-parallel-item::before {content: \"\";position: absolute;border-left: 1px solid gray;box-sizing: border-box;top: 0;bottom: 0;left: 50%;z-index: -1;}#sk-container-id-1 div.sk-parallel-item {display: flex;flex-direction: column;z-index: 1;position: relative;background-color: white;}#sk-container-id-1 div.sk-parallel-item:first-child::after {align-self: flex-end;width: 50%;}#sk-container-id-1 div.sk-parallel-item:last-child::after {align-self: flex-start;width: 50%;}#sk-container-id-1 div.sk-parallel-item:only-child::after {width: 0;}#sk-container-id-1 div.sk-dashed-wrapped {border: 1px dashed gray;margin: 0 0.4em 0.5em 0.4em;box-sizing: border-box;padding-bottom: 0.4em;background-color: white;}#sk-container-id-1 div.sk-label label {font-family: monospace;font-weight: bold;display: inline-block;line-height: 1.2em;}#sk-container-id-1 div.sk-label-container {text-align: center;}#sk-container-id-1 div.sk-container {/* jupyter's `normalize.less` sets `[hidden] { display: none; }` but bootstrap.min.css set `[hidden] { display: none !important; }` so we also need the `!important` here to be able to override the default hidden behavior on the sphinx rendered scikit-learn.org. See: https://github.com/scikit-learn/scikit-learn/issues/21755 */display: inline-block !important;position: relative;}#sk-container-id-1 div.sk-text-repr-fallback {display: none;}</style><div id=\"sk-container-id-1\" class=\"sk-top-container\"><div class=\"sk-text-repr-fallback\"><pre>TruncatedSVD()</pre><b>In a Jupyter environment, please rerun this cell to show the HTML representation or trust the notebook. <br />On GitHub, the HTML representation is unable to render, please try loading this page with nbviewer.org.</b></div><div class=\"sk-container\" hidden><div class=\"sk-item\"><div class=\"sk-estimator sk-toggleable\"><input class=\"sk-toggleable__control sk-hidden--visually\" id=\"sk-estimator-id-1\" type=\"checkbox\" checked><label for=\"sk-estimator-id-1\" class=\"sk-toggleable__label sk-toggleable__label-arrow\">TruncatedSVD</label><div class=\"sk-toggleable__content\"><pre>TruncatedSVD()</pre></div></div></div></div></div>"
      ],
      "text/plain": [
       "TruncatedSVD()"
      ]
     },
     "execution_count": 28,
     "metadata": {},
     "output_type": "execute_result"
    }
   ],
   "source": [
    "from sklearn.decomposition import TruncatedSVD\n",
    "svd = TruncatedSVD(n_components=2)\n",
    "svd.fit(A)"
   ]
  },
  {
   "cell_type": "code",
   "execution_count": 29,
   "id": "4f49a6a4",
   "metadata": {},
   "outputs": [
    {
     "name": "stdout",
     "output_type": "stream",
     "text": [
      "[[18.52157747  6.47697214]\n",
      " [49.81310011  1.91182038]\n",
      " [81.10462276 -2.65333138]]\n"
     ]
    }
   ],
   "source": [
    "result = svd.transform(A)\n",
    "print(result)"
   ]
  },
  {
   "cell_type": "code",
   "execution_count": null,
   "id": "f740e28d",
   "metadata": {},
   "outputs": [],
   "source": [
    "#result = U.sigma = A.VT.T "
   ]
  }
 ],
 "metadata": {
  "kernelspec": {
   "display_name": "Python 3 (ipykernel)",
   "language": "python",
   "name": "python3"
  },
  "language_info": {
   "codemirror_mode": {
    "name": "ipython",
    "version": 3
   },
   "file_extension": ".py",
   "mimetype": "text/x-python",
   "name": "python",
   "nbconvert_exporter": "python",
   "pygments_lexer": "ipython3",
   "version": "3.9.12"
  }
 },
 "nbformat": 4,
 "nbformat_minor": 5
}
