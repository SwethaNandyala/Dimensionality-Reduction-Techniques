{
 "cells": [
  {
   "cell_type": "code",
   "execution_count": 121,
   "id": "d464c3ee",
   "metadata": {},
   "outputs": [],
   "source": [
    "import numpy as np\n",
    "import pandas as pd\n",
    "import matplotlib.pyplot as plt\n",
    "import seaborn as sns\n",
    "from sklearn.decomposition import PCA\n",
    "from sklearn.preprocessing import StandardScaler"
   ]
  },
  {
   "cell_type": "code",
   "execution_count": 2,
   "id": "fde4a25f",
   "metadata": {},
   "outputs": [],
   "source": [
    "data = pd.read_csv('wine_dataset.csv')"
   ]
  },
  {
   "cell_type": "code",
   "execution_count": 3,
   "id": "05a99f3b",
   "metadata": {},
   "outputs": [
    {
     "data": {
      "text/html": [
       "<div>\n",
       "<style scoped>\n",
       "    .dataframe tbody tr th:only-of-type {\n",
       "        vertical-align: middle;\n",
       "    }\n",
       "\n",
       "    .dataframe tbody tr th {\n",
       "        vertical-align: top;\n",
       "    }\n",
       "\n",
       "    .dataframe thead th {\n",
       "        text-align: right;\n",
       "    }\n",
       "</style>\n",
       "<table border=\"1\" class=\"dataframe\">\n",
       "  <thead>\n",
       "    <tr style=\"text-align: right;\">\n",
       "      <th></th>\n",
       "      <th>fixed_acidity</th>\n",
       "      <th>volatile_acidity</th>\n",
       "      <th>citric_acid</th>\n",
       "      <th>residual_sugar</th>\n",
       "      <th>chlorides</th>\n",
       "      <th>free_sulfur_dioxide</th>\n",
       "      <th>total_sulfur_dioxide</th>\n",
       "      <th>density</th>\n",
       "      <th>pH</th>\n",
       "      <th>sulphates</th>\n",
       "      <th>alcohol</th>\n",
       "      <th>quality</th>\n",
       "      <th>style</th>\n",
       "    </tr>\n",
       "  </thead>\n",
       "  <tbody>\n",
       "    <tr>\n",
       "      <th>0</th>\n",
       "      <td>7.4</td>\n",
       "      <td>0.70</td>\n",
       "      <td>0.00</td>\n",
       "      <td>1.9</td>\n",
       "      <td>0.076</td>\n",
       "      <td>11.0</td>\n",
       "      <td>34.0</td>\n",
       "      <td>0.9978</td>\n",
       "      <td>3.51</td>\n",
       "      <td>0.56</td>\n",
       "      <td>9.4</td>\n",
       "      <td>5</td>\n",
       "      <td>red</td>\n",
       "    </tr>\n",
       "    <tr>\n",
       "      <th>1</th>\n",
       "      <td>7.8</td>\n",
       "      <td>0.88</td>\n",
       "      <td>0.00</td>\n",
       "      <td>2.6</td>\n",
       "      <td>0.098</td>\n",
       "      <td>25.0</td>\n",
       "      <td>67.0</td>\n",
       "      <td>0.9968</td>\n",
       "      <td>3.20</td>\n",
       "      <td>0.68</td>\n",
       "      <td>9.8</td>\n",
       "      <td>5</td>\n",
       "      <td>red</td>\n",
       "    </tr>\n",
       "    <tr>\n",
       "      <th>2</th>\n",
       "      <td>7.8</td>\n",
       "      <td>0.76</td>\n",
       "      <td>0.04</td>\n",
       "      <td>2.3</td>\n",
       "      <td>0.092</td>\n",
       "      <td>15.0</td>\n",
       "      <td>54.0</td>\n",
       "      <td>0.9970</td>\n",
       "      <td>3.26</td>\n",
       "      <td>0.65</td>\n",
       "      <td>9.8</td>\n",
       "      <td>5</td>\n",
       "      <td>red</td>\n",
       "    </tr>\n",
       "    <tr>\n",
       "      <th>3</th>\n",
       "      <td>11.2</td>\n",
       "      <td>0.28</td>\n",
       "      <td>0.56</td>\n",
       "      <td>1.9</td>\n",
       "      <td>0.075</td>\n",
       "      <td>17.0</td>\n",
       "      <td>60.0</td>\n",
       "      <td>0.9980</td>\n",
       "      <td>3.16</td>\n",
       "      <td>0.58</td>\n",
       "      <td>9.8</td>\n",
       "      <td>6</td>\n",
       "      <td>red</td>\n",
       "    </tr>\n",
       "    <tr>\n",
       "      <th>4</th>\n",
       "      <td>7.4</td>\n",
       "      <td>0.70</td>\n",
       "      <td>0.00</td>\n",
       "      <td>1.9</td>\n",
       "      <td>0.076</td>\n",
       "      <td>11.0</td>\n",
       "      <td>34.0</td>\n",
       "      <td>0.9978</td>\n",
       "      <td>3.51</td>\n",
       "      <td>0.56</td>\n",
       "      <td>9.4</td>\n",
       "      <td>5</td>\n",
       "      <td>red</td>\n",
       "    </tr>\n",
       "  </tbody>\n",
       "</table>\n",
       "</div>"
      ],
      "text/plain": [
       "   fixed_acidity  volatile_acidity  citric_acid  residual_sugar  chlorides  \\\n",
       "0            7.4              0.70         0.00             1.9      0.076   \n",
       "1            7.8              0.88         0.00             2.6      0.098   \n",
       "2            7.8              0.76         0.04             2.3      0.092   \n",
       "3           11.2              0.28         0.56             1.9      0.075   \n",
       "4            7.4              0.70         0.00             1.9      0.076   \n",
       "\n",
       "   free_sulfur_dioxide  total_sulfur_dioxide  density    pH  sulphates  \\\n",
       "0                 11.0                  34.0   0.9978  3.51       0.56   \n",
       "1                 25.0                  67.0   0.9968  3.20       0.68   \n",
       "2                 15.0                  54.0   0.9970  3.26       0.65   \n",
       "3                 17.0                  60.0   0.9980  3.16       0.58   \n",
       "4                 11.0                  34.0   0.9978  3.51       0.56   \n",
       "\n",
       "   alcohol  quality style  \n",
       "0      9.4        5   red  \n",
       "1      9.8        5   red  \n",
       "2      9.8        5   red  \n",
       "3      9.8        6   red  \n",
       "4      9.4        5   red  "
      ]
     },
     "execution_count": 3,
     "metadata": {},
     "output_type": "execute_result"
    }
   ],
   "source": [
    "data.head()"
   ]
  },
  {
   "cell_type": "code",
   "execution_count": 15,
   "id": "1296781b",
   "metadata": {},
   "outputs": [
    {
     "data": {
      "text/plain": [
       "(6497, 13)"
      ]
     },
     "execution_count": 15,
     "metadata": {},
     "output_type": "execute_result"
    }
   ],
   "source": [
    "data.shape"
   ]
  },
  {
   "cell_type": "code",
   "execution_count": 7,
   "id": "7c3565e0",
   "metadata": {},
   "outputs": [],
   "source": [
    "data_df = data[['fixed_acidity','volatile_acidity','citric_acid','residual_sugar','chlorides','free_sulfur_dioxide','total_sulfur_dioxide','density','pH','sulphates','alcohol','quality']]\n",
    "target = data['style']"
   ]
  },
  {
   "cell_type": "code",
   "execution_count": 41,
   "id": "d1aee105",
   "metadata": {},
   "outputs": [],
   "source": [
    "sc = StandardScaler()\n",
    "std_data = sc.fit_transform(data_df)"
   ]
  },
  {
   "cell_type": "code",
   "execution_count": 43,
   "id": "98c569f3",
   "metadata": {},
   "outputs": [
    {
     "data": {
      "text/plain": [
       "(6497, 12)"
      ]
     },
     "execution_count": 43,
     "metadata": {},
     "output_type": "execute_result"
    }
   ],
   "source": [
    "std_data.shape"
   ]
  },
  {
   "cell_type": "code",
   "execution_count": 55,
   "id": "3badf130",
   "metadata": {},
   "outputs": [
    {
     "data": {
      "text/plain": [
       "(6497, 8)"
      ]
     },
     "execution_count": 55,
     "metadata": {},
     "output_type": "execute_result"
    }
   ],
   "source": [
    "pca = PCA(n_components=8)\n",
    "principalcomponents = pca.fit_transform(std_data)\n",
    "principalcomponents.shape"
   ]
  },
  {
   "cell_type": "code",
   "execution_count": 56,
   "id": "087287c5",
   "metadata": {},
   "outputs": [
    {
     "data": {
      "text/html": [
       "<div>\n",
       "<style scoped>\n",
       "    .dataframe tbody tr th:only-of-type {\n",
       "        vertical-align: middle;\n",
       "    }\n",
       "\n",
       "    .dataframe tbody tr th {\n",
       "        vertical-align: top;\n",
       "    }\n",
       "\n",
       "    .dataframe thead th {\n",
       "        text-align: right;\n",
       "    }\n",
       "</style>\n",
       "<table border=\"1\" class=\"dataframe\">\n",
       "  <thead>\n",
       "    <tr style=\"text-align: right;\">\n",
       "      <th></th>\n",
       "      <th>pca0</th>\n",
       "      <th>pca1</th>\n",
       "      <th>pca2</th>\n",
       "      <th>pca3</th>\n",
       "      <th>pca4</th>\n",
       "      <th>pca5</th>\n",
       "      <th>pca6</th>\n",
       "      <th>pca7</th>\n",
       "    </tr>\n",
       "  </thead>\n",
       "  <tbody>\n",
       "    <tr>\n",
       "      <th>0</th>\n",
       "      <td>-3.348438</td>\n",
       "      <td>0.568926</td>\n",
       "      <td>-2.727386</td>\n",
       "      <td>-0.223777</td>\n",
       "      <td>0.621408</td>\n",
       "      <td>-0.231602</td>\n",
       "      <td>0.124851</td>\n",
       "      <td>-0.000515</td>\n",
       "    </tr>\n",
       "    <tr>\n",
       "      <th>1</th>\n",
       "      <td>-3.228595</td>\n",
       "      <td>1.197335</td>\n",
       "      <td>-1.998904</td>\n",
       "      <td>-0.377154</td>\n",
       "      <td>0.110313</td>\n",
       "      <td>1.945885</td>\n",
       "      <td>0.938413</td>\n",
       "      <td>0.425532</td>\n",
       "    </tr>\n",
       "    <tr>\n",
       "      <th>2</th>\n",
       "      <td>-3.237468</td>\n",
       "      <td>0.952580</td>\n",
       "      <td>-1.746578</td>\n",
       "      <td>-0.472791</td>\n",
       "      <td>0.225404</td>\n",
       "      <td>1.082561</td>\n",
       "      <td>0.451976</td>\n",
       "      <td>0.411350</td>\n",
       "    </tr>\n",
       "    <tr>\n",
       "      <th>3</th>\n",
       "      <td>-1.672561</td>\n",
       "      <td>1.600583</td>\n",
       "      <td>2.856552</td>\n",
       "      <td>-0.438364</td>\n",
       "      <td>0.213093</td>\n",
       "      <td>-0.970765</td>\n",
       "      <td>0.222429</td>\n",
       "      <td>-0.279690</td>\n",
       "    </tr>\n",
       "    <tr>\n",
       "      <th>4</th>\n",
       "      <td>-3.348438</td>\n",
       "      <td>0.568926</td>\n",
       "      <td>-2.727386</td>\n",
       "      <td>-0.223777</td>\n",
       "      <td>0.621408</td>\n",
       "      <td>-0.231602</td>\n",
       "      <td>0.124851</td>\n",
       "      <td>-0.000515</td>\n",
       "    </tr>\n",
       "  </tbody>\n",
       "</table>\n",
       "</div>"
      ],
      "text/plain": [
       "       pca0      pca1      pca2      pca3      pca4      pca5      pca6  \\\n",
       "0 -3.348438  0.568926 -2.727386 -0.223777  0.621408 -0.231602  0.124851   \n",
       "1 -3.228595  1.197335 -1.998904 -0.377154  0.110313  1.945885  0.938413   \n",
       "2 -3.237468  0.952580 -1.746578 -0.472791  0.225404  1.082561  0.451976   \n",
       "3 -1.672561  1.600583  2.856552 -0.438364  0.213093 -0.970765  0.222429   \n",
       "4 -3.348438  0.568926 -2.727386 -0.223777  0.621408 -0.231602  0.124851   \n",
       "\n",
       "       pca7  \n",
       "0 -0.000515  \n",
       "1  0.425532  \n",
       "2  0.411350  \n",
       "3 -0.279690  \n",
       "4 -0.000515  "
      ]
     },
     "execution_count": 56,
     "metadata": {},
     "output_type": "execute_result"
    }
   ],
   "source": [
    "pca_df = pd.DataFrame(data=principalcomponents,columns=pca.get_feature_names_out())\n",
    "pca_df.head()"
   ]
  },
  {
   "cell_type": "code",
   "execution_count": 57,
   "id": "404ba08f",
   "metadata": {},
   "outputs": [
    {
     "data": {
      "text/plain": [
       "(8, 12)"
      ]
     },
     "execution_count": 57,
     "metadata": {},
     "output_type": "execute_result"
    }
   ],
   "source": [
    "#each pc is a linear combination of 12 ind feaures\n",
    "pca.components_.shape\n",
    "#each principal component is constructed from 12 independent variables"
   ]
  },
  {
   "cell_type": "code",
   "execution_count": 58,
   "id": "c2638667",
   "metadata": {},
   "outputs": [
    {
     "data": {
      "text/plain": [
       "array([3.04201535, 2.65026192, 1.64175951, 1.06878976, 0.84062985,\n",
       "       0.66050084, 0.56391324, 0.51606227])"
      ]
     },
     "execution_count": 58,
     "metadata": {},
     "output_type": "execute_result"
    }
   ],
   "source": [
    "#variance explained by each pc\n",
    "pca.explained_variance_"
   ]
  },
  {
   "cell_type": "code",
   "execution_count": 59,
   "id": "7ecdcba7",
   "metadata": {},
   "outputs": [
    {
     "data": {
      "text/plain": [
       "array([0.25346226, 0.22082117, 0.13679223, 0.0890521 , 0.07004171,\n",
       "       0.05503326, 0.04698554, 0.04299857])"
      ]
     },
     "execution_count": 59,
     "metadata": {},
     "output_type": "execute_result"
    }
   ],
   "source": [
    "#variance ratio explained by each pc\n",
    "pca.explained_variance_ratio_"
   ]
  },
  {
   "cell_type": "code",
   "execution_count": 60,
   "id": "bdd9a73b",
   "metadata": {},
   "outputs": [
    {
     "data": {
      "text/plain": [
       "0.9151868442702052"
      ]
     },
     "execution_count": 60,
     "metadata": {},
     "output_type": "execute_result"
    }
   ],
   "source": [
    "sum(pca.explained_variance_ratio_)"
   ]
  },
  {
   "cell_type": "code",
   "execution_count": 61,
   "id": "35e29c30",
   "metadata": {
    "scrolled": true
   },
   "outputs": [
    {
     "data": {
      "image/png": "[encoded data removed]",
      "text/plain": [
       "<Figure size 432x288 with 1 Axes>"
      ]
     },
     "metadata": {
      "needs_background": "light"
     },
     "output_type": "display_data"
    }
   ],
   "source": [
    "plt.bar(pca.get_feature_names_out(),pca.explained_variance_ratio_,)\n",
    "plt.plot(pca.get_feature_names_out(), pca.explained_variance_ratio_, 'ro-', linewidth=2)\n",
    "plt.show()"
   ]
  },
  {
   "cell_type": "code",
   "execution_count": null,
   "id": "6c855379",
   "metadata": {},
   "outputs": [],
   "source": [
    "# PCA uses SVD to calculate the principal components\n",
    "# we shall verify the same using the truncated SVD"
   ]
  },
  {
   "cell_type": "code",
   "execution_count": 143,
   "id": "c86940d9",
   "metadata": {},
   "outputs": [
    {
     "name": "stdout",
     "output_type": "stream",
     "text": [
      "Transformed Matrix:\n",
      "(6497, 8)\n"
     ]
    }
   ],
   "source": [
    "#Importing required modules\n",
    "import numpy as np\n",
    "from sklearn.decomposition import TruncatedSVD\n",
    "\n",
    "#Fitting the SVD class\n",
    "trun_svd =  TruncatedSVD(n_components = 8)\n",
    "data_transformed = trun_svd.fit_transform(std_data)\n",
    "\n",
    "#Printing the transformed matrix\n",
    "print(\"Transformed Matrix:\")\n",
    "print(data_transformed.shape)"
   ]
  },
  {
   "cell_type": "code",
   "execution_count": 144,
   "id": "b856c44f",
   "metadata": {},
   "outputs": [
    {
     "data": {
      "text/html": [
       "<div>\n",
       "<style scoped>\n",
       "    .dataframe tbody tr th:only-of-type {\n",
       "        vertical-align: middle;\n",
       "    }\n",
       "\n",
       "    .dataframe tbody tr th {\n",
       "        vertical-align: top;\n",
       "    }\n",
       "\n",
       "    .dataframe thead th {\n",
       "        text-align: right;\n",
       "    }\n",
       "</style>\n",
       "<table border=\"1\" class=\"dataframe\">\n",
       "  <thead>\n",
       "    <tr style=\"text-align: right;\">\n",
       "      <th></th>\n",
       "      <th>truncatedsvd0</th>\n",
       "      <th>truncatedsvd1</th>\n",
       "      <th>truncatedsvd2</th>\n",
       "      <th>truncatedsvd3</th>\n",
       "      <th>truncatedsvd4</th>\n",
       "      <th>truncatedsvd5</th>\n",
       "      <th>truncatedsvd6</th>\n",
       "      <th>truncatedsvd7</th>\n",
       "    </tr>\n",
       "  </thead>\n",
       "  <tbody>\n",
       "    <tr>\n",
       "      <th>0</th>\n",
       "      <td>-3.348438</td>\n",
       "      <td>0.568926</td>\n",
       "      <td>-2.727386</td>\n",
       "      <td>-0.223777</td>\n",
       "      <td>0.621408</td>\n",
       "      <td>-0.231602</td>\n",
       "      <td>0.124851</td>\n",
       "      <td>-0.000515</td>\n",
       "    </tr>\n",
       "    <tr>\n",
       "      <th>1</th>\n",
       "      <td>-3.228595</td>\n",
       "      <td>1.197335</td>\n",
       "      <td>-1.998904</td>\n",
       "      <td>-0.377154</td>\n",
       "      <td>0.110313</td>\n",
       "      <td>1.945885</td>\n",
       "      <td>0.938413</td>\n",
       "      <td>0.425532</td>\n",
       "    </tr>\n",
       "    <tr>\n",
       "      <th>2</th>\n",
       "      <td>-3.237468</td>\n",
       "      <td>0.952580</td>\n",
       "      <td>-1.746578</td>\n",
       "      <td>-0.472791</td>\n",
       "      <td>0.225404</td>\n",
       "      <td>1.082561</td>\n",
       "      <td>0.451976</td>\n",
       "      <td>0.411350</td>\n",
       "    </tr>\n",
       "    <tr>\n",
       "      <th>3</th>\n",
       "      <td>-1.672561</td>\n",
       "      <td>1.600583</td>\n",
       "      <td>2.856552</td>\n",
       "      <td>-0.438364</td>\n",
       "      <td>0.213093</td>\n",
       "      <td>-0.970765</td>\n",
       "      <td>0.222429</td>\n",
       "      <td>-0.279690</td>\n",
       "    </tr>\n",
       "    <tr>\n",
       "      <th>4</th>\n",
       "      <td>-3.348438</td>\n",
       "      <td>0.568926</td>\n",
       "      <td>-2.727386</td>\n",
       "      <td>-0.223777</td>\n",
       "      <td>0.621408</td>\n",
       "      <td>-0.231602</td>\n",
       "      <td>0.124851</td>\n",
       "      <td>-0.000515</td>\n",
       "    </tr>\n",
       "  </tbody>\n",
       "</table>\n",
       "</div>"
      ],
      "text/plain": [
       "   truncatedsvd0  truncatedsvd1  truncatedsvd2  truncatedsvd3  truncatedsvd4  \\\n",
       "0      -3.348438       0.568926      -2.727386      -0.223777       0.621408   \n",
       "1      -3.228595       1.197335      -1.998904      -0.377154       0.110313   \n",
       "2      -3.237468       0.952580      -1.746578      -0.472791       0.225404   \n",
       "3      -1.672561       1.600583       2.856552      -0.438364       0.213093   \n",
       "4      -3.348438       0.568926      -2.727386      -0.223777       0.621408   \n",
       "\n",
       "   truncatedsvd5  truncatedsvd6  truncatedsvd7  \n",
       "0      -0.231602       0.124851      -0.000515  \n",
       "1       1.945885       0.938413       0.425532  \n",
       "2       1.082561       0.451976       0.411350  \n",
       "3      -0.970765       0.222429      -0.279690  \n",
       "4      -0.231602       0.124851      -0.000515  "
      ]
     },
     "execution_count": 144,
     "metadata": {},
     "output_type": "execute_result"
    }
   ],
   "source": [
    "svd_df = pd.DataFrame(data=data_transformed,columns=trun_svd.get_feature_names_out())\n",
    "svd_df.head()"
   ]
  },
  {
   "cell_type": "code",
   "execution_count": 140,
   "id": "2ff18d7c",
   "metadata": {},
   "outputs": [
    {
     "data": {
      "text/html": [
       "<div>\n",
       "<style scoped>\n",
       "    .dataframe tbody tr th:only-of-type {\n",
       "        vertical-align: middle;\n",
       "    }\n",
       "\n",
       "    .dataframe tbody tr th {\n",
       "        vertical-align: top;\n",
       "    }\n",
       "\n",
       "    .dataframe thead th {\n",
       "        text-align: right;\n",
       "    }\n",
       "</style>\n",
       "<table border=\"1\" class=\"dataframe\">\n",
       "  <thead>\n",
       "    <tr style=\"text-align: right;\">\n",
       "      <th></th>\n",
       "      <th>pca0</th>\n",
       "      <th>pca1</th>\n",
       "      <th>pca2</th>\n",
       "      <th>pca3</th>\n",
       "      <th>pca4</th>\n",
       "      <th>pca5</th>\n",
       "      <th>pca6</th>\n",
       "      <th>pca7</th>\n",
       "    </tr>\n",
       "  </thead>\n",
       "  <tbody>\n",
       "    <tr>\n",
       "      <th>0</th>\n",
       "      <td>-3.348438</td>\n",
       "      <td>0.568926</td>\n",
       "      <td>-2.727386</td>\n",
       "      <td>-0.223777</td>\n",
       "      <td>0.621408</td>\n",
       "      <td>-0.231602</td>\n",
       "      <td>0.124851</td>\n",
       "      <td>-0.000515</td>\n",
       "    </tr>\n",
       "    <tr>\n",
       "      <th>1</th>\n",
       "      <td>-3.228595</td>\n",
       "      <td>1.197335</td>\n",
       "      <td>-1.998904</td>\n",
       "      <td>-0.377154</td>\n",
       "      <td>0.110313</td>\n",
       "      <td>1.945885</td>\n",
       "      <td>0.938413</td>\n",
       "      <td>0.425532</td>\n",
       "    </tr>\n",
       "    <tr>\n",
       "      <th>2</th>\n",
       "      <td>-3.237468</td>\n",
       "      <td>0.952580</td>\n",
       "      <td>-1.746578</td>\n",
       "      <td>-0.472791</td>\n",
       "      <td>0.225404</td>\n",
       "      <td>1.082561</td>\n",
       "      <td>0.451976</td>\n",
       "      <td>0.411350</td>\n",
       "    </tr>\n",
       "    <tr>\n",
       "      <th>3</th>\n",
       "      <td>-1.672561</td>\n",
       "      <td>1.600583</td>\n",
       "      <td>2.856552</td>\n",
       "      <td>-0.438364</td>\n",
       "      <td>0.213093</td>\n",
       "      <td>-0.970765</td>\n",
       "      <td>0.222429</td>\n",
       "      <td>-0.279690</td>\n",
       "    </tr>\n",
       "    <tr>\n",
       "      <th>4</th>\n",
       "      <td>-3.348438</td>\n",
       "      <td>0.568926</td>\n",
       "      <td>-2.727386</td>\n",
       "      <td>-0.223777</td>\n",
       "      <td>0.621408</td>\n",
       "      <td>-0.231602</td>\n",
       "      <td>0.124851</td>\n",
       "      <td>-0.000515</td>\n",
       "    </tr>\n",
       "  </tbody>\n",
       "</table>\n",
       "</div>"
      ],
      "text/plain": [
       "       pca0      pca1      pca2      pca3      pca4      pca5      pca6  \\\n",
       "0 -3.348438  0.568926 -2.727386 -0.223777  0.621408 -0.231602  0.124851   \n",
       "1 -3.228595  1.197335 -1.998904 -0.377154  0.110313  1.945885  0.938413   \n",
       "2 -3.237468  0.952580 -1.746578 -0.472791  0.225404  1.082561  0.451976   \n",
       "3 -1.672561  1.600583  2.856552 -0.438364  0.213093 -0.970765  0.222429   \n",
       "4 -3.348438  0.568926 -2.727386 -0.223777  0.621408 -0.231602  0.124851   \n",
       "\n",
       "       pca7  \n",
       "0 -0.000515  \n",
       "1  0.425532  \n",
       "2  0.411350  \n",
       "3 -0.279690  \n",
       "4 -0.000515  "
      ]
     },
     "execution_count": 140,
     "metadata": {},
     "output_type": "execute_result"
    }
   ],
   "source": [
    "pca_df.head()"
   ]
  },
  {
   "cell_type": "markdown",
   "id": "9e9e5dce",
   "metadata": {},
   "source": [
    "## Inference we can see that the principal components and SVD components are exactly the same"
   ]
  },
  {
   "cell_type": "code",
   "execution_count": 68,
   "id": "db326808",
   "metadata": {},
   "outputs": [
    {
     "data": {
      "text/plain": [
       "0.9151868442702067"
      ]
     },
     "execution_count": 68,
     "metadata": {},
     "output_type": "execute_result"
    }
   ],
   "source": [
    "sum(trun_svd.explained_variance_ratio_)"
   ]
  },
  {
   "cell_type": "code",
   "execution_count": 112,
   "id": "a3619a11",
   "metadata": {},
   "outputs": [
    {
     "data": {
      "text/plain": [
       "array(['truncatedsvd0', 'truncatedsvd1', 'truncatedsvd2', 'truncatedsvd3',\n",
       "       'truncatedsvd4', 'truncatedsvd5', 'truncatedsvd6', 'truncatedsvd7'],\n",
       "      dtype=object)"
      ]
     },
     "execution_count": 112,
     "metadata": {},
     "output_type": "execute_result"
    }
   ],
   "source": [
    "trun_svd.get_feature_names_out()"
   ]
  },
  {
   "cell_type": "code",
   "execution_count": 116,
   "id": "837fdbf3",
   "metadata": {},
   "outputs": [
    {
     "data": {
      "image/png": "[encoded data removed]",
      "text/plain": [
       "<Figure size 432x288 with 1 Axes>"
      ]
     },
     "metadata": {
      "needs_background": "light"
     },
     "output_type": "display_data"
    }
   ],
   "source": [
    "plt.bar(trun_svd.get_feature_names_out(),trun_svd.explained_variance_ratio_,)\n",
    "plt.plot(trun_svd.get_feature_names_out(), trun_svd.explained_variance_ratio_, 'ro-', linewidth=2)\n",
    "plt.xticks(rotation=90)\n",
    "plt.show()"
   ]
  },
  {
   "cell_type": "markdown",
   "id": "b3683d90",
   "metadata": {},
   "source": [
    "### Lets calculate the PricipalComponents/ SVD components using Numpy Linear algebra"
   ]
  },
  {
   "cell_type": "code",
   "execution_count": 71,
   "id": "d8e9b49a",
   "metadata": {},
   "outputs": [],
   "source": [
    "U,S,VT = np.linalg.svd(std_data)"
   ]
  },
  {
   "cell_type": "code",
   "execution_count": 127,
   "id": "4c0aca58",
   "metadata": {},
   "outputs": [
    {
     "data": {
      "text/plain": [
       "array([140.57358116, 131.2101422 , 103.27085644,  83.32381582,\n",
       "        73.89676261,  65.50277438,  60.52421365,  57.89939984,\n",
       "        54.57146438,  44.07592111,  38.4530378 ,  14.59469805])"
      ]
     },
     "execution_count": 127,
     "metadata": {},
     "output_type": "execute_result"
    }
   ],
   "source": [
    "S"
   ]
  },
  {
   "cell_type": "code",
   "execution_count": 133,
   "id": "4038637e",
   "metadata": {},
   "outputs": [],
   "source": [
    "# create m x n Sigma matrix\n",
    "Sigma = np.zeros((std_data.shape[0], std_data.shape[1]))\n",
    "# populate Sigma with n x n diagonal matrix\n",
    "Sigma[:std_data.shape[1], :std_data.shape[1]] = np.diag(S)\n",
    "# select no of components\n",
    "# select the columns in sigma\n",
    "n_elements = 8\n",
    "Sigma = Sigma[:, :n_elements]\n",
    "\n",
    "# select the rows in VT\n",
    "VT = VT[:n_elements, :]\n",
    "# reconstruct\n",
    "B = U.dot(Sigma.dot(VT))\n",
    "\n",
    "# transform\n",
    "T = U.dot(Sigma)"
   ]
  },
  {
   "cell_type": "code",
   "execution_count": 145,
   "id": "17ed014c",
   "metadata": {},
   "outputs": [
    {
     "data": {
      "text/html": [
       "<div>\n",
       "<style scoped>\n",
       "    .dataframe tbody tr th:only-of-type {\n",
       "        vertical-align: middle;\n",
       "    }\n",
       "\n",
       "    .dataframe tbody tr th {\n",
       "        vertical-align: top;\n",
       "    }\n",
       "\n",
       "    .dataframe thead th {\n",
       "        text-align: right;\n",
       "    }\n",
       "</style>\n",
       "<table border=\"1\" class=\"dataframe\">\n",
       "  <thead>\n",
       "    <tr style=\"text-align: right;\">\n",
       "      <th></th>\n",
       "      <th>0</th>\n",
       "      <th>1</th>\n",
       "      <th>2</th>\n",
       "      <th>3</th>\n",
       "      <th>4</th>\n",
       "      <th>5</th>\n",
       "      <th>6</th>\n",
       "      <th>7</th>\n",
       "    </tr>\n",
       "  </thead>\n",
       "  <tbody>\n",
       "    <tr>\n",
       "      <th>0</th>\n",
       "      <td>-3.348438</td>\n",
       "      <td>0.568926</td>\n",
       "      <td>2.727386</td>\n",
       "      <td>0.223777</td>\n",
       "      <td>-0.621408</td>\n",
       "      <td>0.231602</td>\n",
       "      <td>-0.124851</td>\n",
       "      <td>0.000515</td>\n",
       "    </tr>\n",
       "    <tr>\n",
       "      <th>1</th>\n",
       "      <td>-3.228595</td>\n",
       "      <td>1.197335</td>\n",
       "      <td>1.998904</td>\n",
       "      <td>0.377154</td>\n",
       "      <td>-0.110313</td>\n",
       "      <td>-1.945885</td>\n",
       "      <td>-0.938413</td>\n",
       "      <td>-0.425532</td>\n",
       "    </tr>\n",
       "    <tr>\n",
       "      <th>2</th>\n",
       "      <td>-3.237468</td>\n",
       "      <td>0.952580</td>\n",
       "      <td>1.746578</td>\n",
       "      <td>0.472791</td>\n",
       "      <td>-0.225404</td>\n",
       "      <td>-1.082561</td>\n",
       "      <td>-0.451976</td>\n",
       "      <td>-0.411350</td>\n",
       "    </tr>\n",
       "    <tr>\n",
       "      <th>3</th>\n",
       "      <td>-1.672561</td>\n",
       "      <td>1.600583</td>\n",
       "      <td>-2.856552</td>\n",
       "      <td>0.438364</td>\n",
       "      <td>-0.213093</td>\n",
       "      <td>0.970765</td>\n",
       "      <td>-0.222429</td>\n",
       "      <td>0.279690</td>\n",
       "    </tr>\n",
       "    <tr>\n",
       "      <th>4</th>\n",
       "      <td>-3.348438</td>\n",
       "      <td>0.568926</td>\n",
       "      <td>2.727386</td>\n",
       "      <td>0.223777</td>\n",
       "      <td>-0.621408</td>\n",
       "      <td>0.231602</td>\n",
       "      <td>-0.124851</td>\n",
       "      <td>0.000515</td>\n",
       "    </tr>\n",
       "  </tbody>\n",
       "</table>\n",
       "</div>"
      ],
      "text/plain": [
       "          0         1         2         3         4         5         6  \\\n",
       "0 -3.348438  0.568926  2.727386  0.223777 -0.621408  0.231602 -0.124851   \n",
       "1 -3.228595  1.197335  1.998904  0.377154 -0.110313 -1.945885 -0.938413   \n",
       "2 -3.237468  0.952580  1.746578  0.472791 -0.225404 -1.082561 -0.451976   \n",
       "3 -1.672561  1.600583 -2.856552  0.438364 -0.213093  0.970765 -0.222429   \n",
       "4 -3.348438  0.568926  2.727386  0.223777 -0.621408  0.231602 -0.124851   \n",
       "\n",
       "          7  \n",
       "0  0.000515  \n",
       "1 -0.425532  \n",
       "2 -0.411350  \n",
       "3  0.279690  \n",
       "4  0.000515  "
      ]
     },
     "execution_count": 145,
     "metadata": {},
     "output_type": "execute_result"
    }
   ],
   "source": [
    "data_transformed_2 = pd.DataFrame(data=T)\n",
    "data_transformed_2.head()"
   ]
  },
  {
   "cell_type": "code",
   "execution_count": 141,
   "id": "80cd3f19",
   "metadata": {},
   "outputs": [
    {
     "data": {
      "text/html": [
       "<div>\n",
       "<style scoped>\n",
       "    .dataframe tbody tr th:only-of-type {\n",
       "        vertical-align: middle;\n",
       "    }\n",
       "\n",
       "    .dataframe tbody tr th {\n",
       "        vertical-align: top;\n",
       "    }\n",
       "\n",
       "    .dataframe thead th {\n",
       "        text-align: right;\n",
       "    }\n",
       "</style>\n",
       "<table border=\"1\" class=\"dataframe\">\n",
       "  <thead>\n",
       "    <tr style=\"text-align: right;\">\n",
       "      <th></th>\n",
       "      <th>pca0</th>\n",
       "      <th>pca1</th>\n",
       "      <th>pca2</th>\n",
       "      <th>pca3</th>\n",
       "      <th>pca4</th>\n",
       "      <th>pca5</th>\n",
       "      <th>pca6</th>\n",
       "      <th>pca7</th>\n",
       "    </tr>\n",
       "  </thead>\n",
       "  <tbody>\n",
       "    <tr>\n",
       "      <th>0</th>\n",
       "      <td>-3.348438</td>\n",
       "      <td>0.568926</td>\n",
       "      <td>-2.727386</td>\n",
       "      <td>-0.223777</td>\n",
       "      <td>0.621408</td>\n",
       "      <td>-0.231602</td>\n",
       "      <td>0.124851</td>\n",
       "      <td>-0.000515</td>\n",
       "    </tr>\n",
       "    <tr>\n",
       "      <th>1</th>\n",
       "      <td>-3.228595</td>\n",
       "      <td>1.197335</td>\n",
       "      <td>-1.998904</td>\n",
       "      <td>-0.377154</td>\n",
       "      <td>0.110313</td>\n",
       "      <td>1.945885</td>\n",
       "      <td>0.938413</td>\n",
       "      <td>0.425532</td>\n",
       "    </tr>\n",
       "    <tr>\n",
       "      <th>2</th>\n",
       "      <td>-3.237468</td>\n",
       "      <td>0.952580</td>\n",
       "      <td>-1.746578</td>\n",
       "      <td>-0.472791</td>\n",
       "      <td>0.225404</td>\n",
       "      <td>1.082561</td>\n",
       "      <td>0.451976</td>\n",
       "      <td>0.411350</td>\n",
       "    </tr>\n",
       "    <tr>\n",
       "      <th>3</th>\n",
       "      <td>-1.672561</td>\n",
       "      <td>1.600583</td>\n",
       "      <td>2.856552</td>\n",
       "      <td>-0.438364</td>\n",
       "      <td>0.213093</td>\n",
       "      <td>-0.970765</td>\n",
       "      <td>0.222429</td>\n",
       "      <td>-0.279690</td>\n",
       "    </tr>\n",
       "    <tr>\n",
       "      <th>4</th>\n",
       "      <td>-3.348438</td>\n",
       "      <td>0.568926</td>\n",
       "      <td>-2.727386</td>\n",
       "      <td>-0.223777</td>\n",
       "      <td>0.621408</td>\n",
       "      <td>-0.231602</td>\n",
       "      <td>0.124851</td>\n",
       "      <td>-0.000515</td>\n",
       "    </tr>\n",
       "  </tbody>\n",
       "</table>\n",
       "</div>"
      ],
      "text/plain": [
       "       pca0      pca1      pca2      pca3      pca4      pca5      pca6  \\\n",
       "0 -3.348438  0.568926 -2.727386 -0.223777  0.621408 -0.231602  0.124851   \n",
       "1 -3.228595  1.197335 -1.998904 -0.377154  0.110313  1.945885  0.938413   \n",
       "2 -3.237468  0.952580 -1.746578 -0.472791  0.225404  1.082561  0.451976   \n",
       "3 -1.672561  1.600583  2.856552 -0.438364  0.213093 -0.970765  0.222429   \n",
       "4 -3.348438  0.568926 -2.727386 -0.223777  0.621408 -0.231602  0.124851   \n",
       "\n",
       "       pca7  \n",
       "0 -0.000515  \n",
       "1  0.425532  \n",
       "2  0.411350  \n",
       "3 -0.279690  \n",
       "4 -0.000515  "
      ]
     },
     "execution_count": 141,
     "metadata": {},
     "output_type": "execute_result"
    }
   ],
   "source": [
    "pca_df.head()"
   ]
  },
  {
   "cell_type": "code",
   "execution_count": 142,
   "id": "bee2b239",
   "metadata": {},
   "outputs": [
    {
     "data": {
      "text/html": [
       "<div>\n",
       "<style scoped>\n",
       "    .dataframe tbody tr th:only-of-type {\n",
       "        vertical-align: middle;\n",
       "    }\n",
       "\n",
       "    .dataframe tbody tr th {\n",
       "        vertical-align: top;\n",
       "    }\n",
       "\n",
       "    .dataframe thead th {\n",
       "        text-align: right;\n",
       "    }\n",
       "</style>\n",
       "<table border=\"1\" class=\"dataframe\">\n",
       "  <thead>\n",
       "    <tr style=\"text-align: right;\">\n",
       "      <th></th>\n",
       "      <th>truncatedsvd0</th>\n",
       "      <th>truncatedsvd1</th>\n",
       "      <th>truncatedsvd2</th>\n",
       "      <th>truncatedsvd3</th>\n",
       "      <th>truncatedsvd4</th>\n",
       "      <th>truncatedsvd5</th>\n",
       "      <th>truncatedsvd6</th>\n",
       "      <th>truncatedsvd7</th>\n",
       "    </tr>\n",
       "  </thead>\n",
       "  <tbody>\n",
       "    <tr>\n",
       "      <th>0</th>\n",
       "      <td>-3.348438</td>\n",
       "      <td>0.568926</td>\n",
       "      <td>-2.727386</td>\n",
       "      <td>-0.223777</td>\n",
       "      <td>0.621408</td>\n",
       "      <td>-0.231602</td>\n",
       "      <td>0.124851</td>\n",
       "      <td>-0.000515</td>\n",
       "    </tr>\n",
       "    <tr>\n",
       "      <th>1</th>\n",
       "      <td>-3.228595</td>\n",
       "      <td>1.197335</td>\n",
       "      <td>-1.998904</td>\n",
       "      <td>-0.377154</td>\n",
       "      <td>0.110313</td>\n",
       "      <td>1.945885</td>\n",
       "      <td>0.938413</td>\n",
       "      <td>0.425532</td>\n",
       "    </tr>\n",
       "    <tr>\n",
       "      <th>2</th>\n",
       "      <td>-3.237468</td>\n",
       "      <td>0.952580</td>\n",
       "      <td>-1.746578</td>\n",
       "      <td>-0.472791</td>\n",
       "      <td>0.225404</td>\n",
       "      <td>1.082561</td>\n",
       "      <td>0.451976</td>\n",
       "      <td>0.411350</td>\n",
       "    </tr>\n",
       "    <tr>\n",
       "      <th>3</th>\n",
       "      <td>-1.672561</td>\n",
       "      <td>1.600583</td>\n",
       "      <td>2.856552</td>\n",
       "      <td>-0.438364</td>\n",
       "      <td>0.213093</td>\n",
       "      <td>-0.970765</td>\n",
       "      <td>0.222429</td>\n",
       "      <td>-0.279690</td>\n",
       "    </tr>\n",
       "    <tr>\n",
       "      <th>4</th>\n",
       "      <td>-3.348438</td>\n",
       "      <td>0.568926</td>\n",
       "      <td>-2.727386</td>\n",
       "      <td>-0.223777</td>\n",
       "      <td>0.621408</td>\n",
       "      <td>-0.231602</td>\n",
       "      <td>0.124851</td>\n",
       "      <td>-0.000515</td>\n",
       "    </tr>\n",
       "  </tbody>\n",
       "</table>\n",
       "</div>"
      ],
      "text/plain": [
       "   truncatedsvd0  truncatedsvd1  truncatedsvd2  truncatedsvd3  truncatedsvd4  \\\n",
       "0      -3.348438       0.568926      -2.727386      -0.223777       0.621408   \n",
       "1      -3.228595       1.197335      -1.998904      -0.377154       0.110313   \n",
       "2      -3.237468       0.952580      -1.746578      -0.472791       0.225404   \n",
       "3      -1.672561       1.600583       2.856552      -0.438364       0.213093   \n",
       "4      -3.348438       0.568926      -2.727386      -0.223777       0.621408   \n",
       "\n",
       "   truncatedsvd5  truncatedsvd6  truncatedsvd7  \n",
       "0      -0.231602       0.124851      -0.000515  \n",
       "1       1.945885       0.938413       0.425532  \n",
       "2       1.082561       0.451976       0.411350  \n",
       "3      -0.970765       0.222429      -0.279690  \n",
       "4      -0.231602       0.124851      -0.000515  "
      ]
     },
     "execution_count": 142,
     "metadata": {},
     "output_type": "execute_result"
    }
   ],
   "source": [
    "svd_df.head()"
   ]
  },
  {
   "cell_type": "markdown",
   "id": "3a874865",
   "metadata": {},
   "source": [
    "### Inference:\n",
    "> we can observe that the components calculated using all the approches are exactly the same"
   ]
  },
  {
   "cell_type": "code",
   "execution_count": 95,
   "id": "1ab8ef65",
   "metadata": {},
   "outputs": [
    {
     "data": {
      "text/plain": [
       "1.0"
      ]
     },
     "execution_count": 95,
     "metadata": {},
     "output_type": "execute_result"
    }
   ],
   "source": [
    "variance_ratios = S/sum(S)\n",
    "sum(variance_ratios)"
   ]
  },
  {
   "cell_type": "code",
   "execution_count": 109,
   "id": "2c0416dd",
   "metadata": {},
   "outputs": [],
   "source": [
    "def no_components(variance_ratios,required_variance):\n",
    "    explained_var=0\n",
    "    for i in range(len(variance_ratios)):\n",
    "        explained_var +=variance_ratios[i]\n",
    "        \n",
    "        if explained_var >required_variance:\n",
    "            break\n",
    "    #no of components required to achieved the specified variation\n",
    "    no_of_comp = i+1\n",
    "    return no_of_comp"
   ]
  },
  {
   "cell_type": "code",
   "execution_count": 110,
   "id": "306423c6",
   "metadata": {},
   "outputs": [
    {
     "data": {
      "text/plain": [
       "10"
      ]
     },
     "execution_count": 110,
     "metadata": {},
     "output_type": "execute_result"
    }
   ],
   "source": [
    "no_components(variance_ratios,0.90)"
   ]
  }
 ],
 "metadata": {
  "kernelspec": {
   "display_name": "Python 3 (ipykernel)",
   "language": "python",
   "name": "python3"
  },
  "language_info": {
   "codemirror_mode": {
    "name": "ipython",
    "version": 3
   },
   "file_extension": ".py",
   "mimetype": "text/x-python",
   "name": "python",
   "nbconvert_exporter": "python",
   "pygments_lexer": "ipython3",
   "version": "3.9.12"
  }
 },
 "nbformat": 4,
 "nbformat_minor": 5
}
