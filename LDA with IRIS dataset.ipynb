{
 "cells": [
  {
   "cell_type": "markdown",
   "id": "e91ae923",
   "metadata": {},
   "source": [
    "# Perform LDA using custom functions as well as using sklearn libraries"
   ]
  },
  {
   "cell_type": "code",
   "execution_count": 1,
   "id": "0d0a9320",
   "metadata": {},
   "outputs": [],
   "source": [
    "import numpy as np\n",
    "import pandas as pd\n",
    "from sklearn import datasets"
   ]
  },
  {
   "cell_type": "code",
   "execution_count": 2,
   "id": "84707fa9",
   "metadata": {},
   "outputs": [],
   "source": [
    "iris_data = datasets.load_iris()"
   ]
  },
  {
   "cell_type": "code",
   "execution_count": 3,
   "id": "d30325ef",
   "metadata": {},
   "outputs": [],
   "source": [
    "iris_df = pd.DataFrame(data=(iris_data).data,columns=iris_data.feature_names)"
   ]
  },
  {
   "cell_type": "code",
   "execution_count": 4,
   "id": "54ded16e",
   "metadata": {},
   "outputs": [],
   "source": [
    "iris_df[\"target\"] = iris_data.target\n",
    "iris_df[\"target_names\"] = iris_df[\"target\"].map({0:\"setosa\",1:\"versicolor\",2:\"virginica\"})"
   ]
  },
  {
   "cell_type": "code",
   "execution_count": 5,
   "id": "6856b682",
   "metadata": {},
   "outputs": [
    {
     "data": {
      "text/html": [
       "<div>\n",
       "<style scoped>\n",
       "    .dataframe tbody tr th:only-of-type {\n",
       "        vertical-align: middle;\n",
       "    }\n",
       "\n",
       "    .dataframe tbody tr th {\n",
       "        vertical-align: top;\n",
       "    }\n",
       "\n",
       "    .dataframe thead th {\n",
       "        text-align: right;\n",
       "    }\n",
       "</style>\n",
       "<table border=\"1\" class=\"dataframe\">\n",
       "  <thead>\n",
       "    <tr style=\"text-align: right;\">\n",
       "      <th></th>\n",
       "      <th>sepal length (cm)</th>\n",
       "      <th>sepal width (cm)</th>\n",
       "      <th>petal length (cm)</th>\n",
       "      <th>petal width (cm)</th>\n",
       "      <th>target</th>\n",
       "      <th>target_names</th>\n",
       "    </tr>\n",
       "  </thead>\n",
       "  <tbody>\n",
       "    <tr>\n",
       "      <th>0</th>\n",
       "      <td>5.1</td>\n",
       "      <td>3.5</td>\n",
       "      <td>1.4</td>\n",
       "      <td>0.2</td>\n",
       "      <td>0</td>\n",
       "      <td>setosa</td>\n",
       "    </tr>\n",
       "    <tr>\n",
       "      <th>1</th>\n",
       "      <td>4.9</td>\n",
       "      <td>3.0</td>\n",
       "      <td>1.4</td>\n",
       "      <td>0.2</td>\n",
       "      <td>0</td>\n",
       "      <td>setosa</td>\n",
       "    </tr>\n",
       "    <tr>\n",
       "      <th>2</th>\n",
       "      <td>4.7</td>\n",
       "      <td>3.2</td>\n",
       "      <td>1.3</td>\n",
       "      <td>0.2</td>\n",
       "      <td>0</td>\n",
       "      <td>setosa</td>\n",
       "    </tr>\n",
       "    <tr>\n",
       "      <th>3</th>\n",
       "      <td>4.6</td>\n",
       "      <td>3.1</td>\n",
       "      <td>1.5</td>\n",
       "      <td>0.2</td>\n",
       "      <td>0</td>\n",
       "      <td>setosa</td>\n",
       "    </tr>\n",
       "    <tr>\n",
       "      <th>4</th>\n",
       "      <td>5.0</td>\n",
       "      <td>3.6</td>\n",
       "      <td>1.4</td>\n",
       "      <td>0.2</td>\n",
       "      <td>0</td>\n",
       "      <td>setosa</td>\n",
       "    </tr>\n",
       "  </tbody>\n",
       "</table>\n",
       "</div>"
      ],
      "text/plain": [
       "   sepal length (cm)  sepal width (cm)  petal length (cm)  petal width (cm)  \\\n",
       "0                5.1               3.5                1.4               0.2   \n",
       "1                4.9               3.0                1.4               0.2   \n",
       "2                4.7               3.2                1.3               0.2   \n",
       "3                4.6               3.1                1.5               0.2   \n",
       "4                5.0               3.6                1.4               0.2   \n",
       "\n",
       "   target target_names  \n",
       "0       0       setosa  \n",
       "1       0       setosa  \n",
       "2       0       setosa  \n",
       "3       0       setosa  \n",
       "4       0       setosa  "
      ]
     },
     "execution_count": 5,
     "metadata": {},
     "output_type": "execute_result"
    }
   ],
   "source": [
    "iris_df.head()"
   ]
  },
  {
   "cell_type": "code",
   "execution_count": 6,
   "id": "906154ea",
   "metadata": {},
   "outputs": [],
   "source": [
    "feature_names = iris_data.feature_names\n",
    "target_names = iris_data.target_names"
   ]
  },
  {
   "cell_type": "markdown",
   "id": "76878d8a",
   "metadata": {},
   "source": [
    "## Step 1: Computing the d-dimensional mean vectors"
   ]
  },
  {
   "cell_type": "code",
   "execution_count": 7,
   "id": "e6efeaea",
   "metadata": {},
   "outputs": [],
   "source": [
    "def compute_mean_vectors(df,feature_names,target_names):\n",
    "    mean_vectors = []\n",
    "    for i in range(len(target_names)):\n",
    "        mean_class = df[df.target_names == target_names[i]][feature_names].mean()\n",
    "        mean_vectors.append(mean_class)\n",
    "    return mean_vectors"
   ]
  },
  {
   "cell_type": "code",
   "execution_count": 8,
   "id": "add15c1a",
   "metadata": {},
   "outputs": [],
   "source": [
    "mean_vectors = compute_mean_vectors(iris_df,feature_names,target_names)"
   ]
  },
  {
   "cell_type": "markdown",
   "id": "095d68d0",
   "metadata": {},
   "source": [
    "## Step 2: Computing the scatter matrices\n",
    "## SW = S1+S2+S3"
   ]
  },
  {
   "cell_type": "code",
   "execution_count": 9,
   "id": "e62f8eb7",
   "metadata": {},
   "outputs": [],
   "source": [
    "def compute_covariance_matrix(matrix):\n",
    "    N = len(matrix)\n",
    "    cov_mat = (np.dot(matrix.T,matrix))/N\n",
    "    return cov_mat"
   ]
  },
  {
   "cell_type": "code",
   "execution_count": 10,
   "id": "80f24d82",
   "metadata": {},
   "outputs": [],
   "source": [
    "# define the covariance matrix as zeros and add the cov matrix of each class\n",
    "# shape of the sw should be equal to the (no of features * no of features)\n",
    "\n",
    "def compute_withinclass_scatter(df,feature_names,target_names):\n",
    "    sw = np.zeros((len(feature_names),len(feature_names)))\n",
    "    for class_name,mean_vector in list(zip(target_names,mean_vectors)):\n",
    "        diff_matrix = df[df.target_names == class_name][feature_names]-mean_vector\n",
    "        cov_matrix = compute_covariance_matrix(diff_matrix)\n",
    "        sw = sw+cov_matrix\n",
    "    return sw"
   ]
  },
  {
   "cell_type": "code",
   "execution_count": 11,
   "id": "faa08250",
   "metadata": {},
   "outputs": [
    {
     "name": "stdout",
     "output_type": "stream",
     "text": [
      "Within class scatter matrix SW:\n",
      "\n",
      "[[0.779124 0.2726   0.492492 0.1129  ]\n",
      " [0.2726   0.33924  0.162416 0.096168]\n",
      " [0.492492 0.162416 0.544452 0.125436]\n",
      " [0.1129   0.096168 0.125436 0.123132]]\n"
     ]
    }
   ],
   "source": [
    "sw = compute_withinclass_scatter(iris_df,feature_names,target_names)\n",
    "print(\"Within class scatter matrix SW:\\n\")\n",
    "print(sw)"
   ]
  },
  {
   "cell_type": "markdown",
   "id": "5e40bd28",
   "metadata": {},
   "source": [
    "## Step3: Calculating the between class scatter matrix SB"
   ]
  },
  {
   "cell_type": "code",
   "execution_count": 12,
   "id": "8e025d12",
   "metadata": {},
   "outputs": [],
   "source": [
    "def compute_between_class_scatter(df,feature_names,target_names):\n",
    "    grand_mean = df[feature_names].mean()\n",
    "    grand_mean = np.array(grand_mean).reshape(-1,1)\n",
    "    \n",
    "    #initialise the sb with zeros of the shape 4*4 as we have 4 features\n",
    "    sb = np.zeros((len(feature_names),len(feature_names)))\n",
    "    \n",
    "    for i,mean_vector in enumerate(mean_vectors):\n",
    "        mean_vector = np.array(mean_vector).reshape(-1,1)\n",
    "        sb = sb+np.dot((mean_vector-grand_mean),(mean_vector-grand_mean).T)\n",
    "    return sb"
   ]
  },
  {
   "cell_type": "code",
   "execution_count": 13,
   "id": "7557917f",
   "metadata": {},
   "outputs": [
    {
     "name": "stdout",
     "output_type": "stream",
     "text": [
      "Within class scatter matrix SB:\n",
      "\n",
      "[[ 1.26424267 -0.39905333  3.304968    1.42558667]\n",
      " [-0.39905333  0.22689867 -1.144792   -0.45865333]\n",
      " [ 3.304968   -1.144792    8.742056    3.73548   ]\n",
      " [ 1.42558667 -0.45865333  3.73548     1.60826667]]\n"
     ]
    }
   ],
   "source": [
    "sb = compute_between_class_scatter(iris_df,feature_names,target_names)\n",
    "print(\"Within class scatter matrix SB:\\n\")\n",
    "print(sb)"
   ]
  },
  {
   "cell_type": "markdown",
   "id": "a5c807d7",
   "metadata": {},
   "source": [
    "## Step 3: Solving the eigenvalue for the matrix  SW_inv * SB"
   ]
  },
  {
   "cell_type": "raw",
   "id": "3afdab10",
   "metadata": {},
   "source": [
    "Returns\n",
    "---------------------------------------------------------------------\n",
    "w : (..., M) array\n",
    "    The eigenvalues, each repeated according to its multiplicity.\n",
    "    The eigenvalues are not necessarily ordered. The resulting\n",
    "    array will be of complex type, unless the imaginary part is\n",
    "    zero in which case it will be cast to a real type. When `a`\n",
    "    is real the resulting eigenvalues will be real (0 imaginary\n",
    "    part) or occur in conjugate pairs\n",
    "\n",
    "v : (..., M, M) array\n",
    "    The normalized (unit \"length\") eigenvectors, such that the\n",
    "    column ``v[:,i]`` is the eigenvector corresponding to the\n",
    "    eigenvalue ``w[i]``.\n"
   ]
  },
  {
   "cell_type": "raw",
   "id": "e5300572",
   "metadata": {},
   "source": [
    "eigen_vectors[:,0] corresponding to eigen_values[0]"
   ]
  },
  {
   "cell_type": "code",
   "execution_count": 14,
   "id": "c57c53c7",
   "metadata": {},
   "outputs": [],
   "source": [
    "def compute_eig(matrix):\n",
    "    eig_val,eig_vec = np.linalg.eig(matrix)\n",
    "    return eig_val,eig_vec"
   ]
  },
  {
   "cell_type": "code",
   "execution_count": 15,
   "id": "08d2c8c1",
   "metadata": {},
   "outputs": [],
   "source": [
    "sw_inv_dot_sb = np.dot(np.linalg.inv(sw),sb)\n",
    "eigen_values,eigen_vectors = compute_eig(sw_inv_dot_sb)"
   ]
  },
  {
   "cell_type": "code",
   "execution_count": 16,
   "id": "ebac44f8",
   "metadata": {},
   "outputs": [
    {
     "name": "stdout",
     "output_type": "stream",
     "text": [
      "Eigen Value 1 : 32.19192919827803\n",
      "Eigen Vector 1 :\n",
      " [[-0.20874182]\n",
      " [-0.38620369]\n",
      " [ 0.55401172]\n",
      " [ 0.7073504 ]]\n",
      "Eigen Value 2 : 0.28539104262307446\n",
      "Eigen Vector 2 :\n",
      " [[-0.00653196]\n",
      " [-0.58661055]\n",
      " [ 0.25256154]\n",
      " [-0.76945309]]\n",
      "Eigen Value 3 : -1.2633716995678718e-15\n",
      "Eigen Vector 3 :\n",
      " [[-0.7221564 ]\n",
      " [ 0.28623358]\n",
      " [ 0.27787859]\n",
      " [ 0.07633598]]\n",
      "Eigen Value 4 : -1.2633716995678718e-15\n",
      "Eigen Vector 4 :\n",
      " [[-0.7221564 ]\n",
      " [ 0.28623358]\n",
      " [ 0.27787859]\n",
      " [ 0.07633598]]\n"
     ]
    }
   ],
   "source": [
    "for i in range(len(eigen_values)):\n",
    "    print(\"Eigen Value\",str(i+1),\":\",eigen_values[i].real)\n",
    "    print(\"Eigen Vector\",str(i+1),\":\\n\",(eigen_vectors[:,i].real).reshape(4,1))"
   ]
  },
  {
   "cell_type": "code",
   "execution_count": 17,
   "id": "ad86fe04",
   "metadata": {},
   "outputs": [],
   "source": [
    "#testing if sw_inv*sb*eigenvectors = eigen_values*eigenvector\n",
    "#Raises an AssertionError if two objects are not equal up to desired precision."
   ]
  },
  {
   "cell_type": "code",
   "execution_count": 18,
   "id": "3e05106f",
   "metadata": {},
   "outputs": [
    {
     "name": "stdout",
     "output_type": "stream",
     "text": [
      "Test passed\n",
      "sw_inv * sb * eig_vector = eig_value * eig_vector\n"
     ]
    }
   ],
   "source": [
    "for i in range(len(eigen_values)):\n",
    "    eigv = eigen_vectors[:,i].reshape(4,1)\n",
    "    \n",
    "    vec_a = np.linalg.inv(sw).dot(sb).dot(eigv) #sw_inv * sb * eig_vec\n",
    "    vec_b = eigen_values[i] * eigv              #eig_val * eig_vec\n",
    "    \n",
    "    np.testing.assert_array_almost_equal(vec_a,vec_b,decimal=6, err_msg='', verbose=True)\n",
    "print('Test passed')\n",
    "print('sw_inv * sb * eig_vector = eig_value * eig_vector')"
   ]
  },
  {
   "cell_type": "code",
   "execution_count": 19,
   "id": "86ded358",
   "metadata": {},
   "outputs": [],
   "source": [
    "## Sort the eigen values by the decreasing order\n",
    "indexes = np.argsort(eigen_values)[::-1]\n",
    "eigen_vals =eigen_values[indexes]\n",
    "eigen_vectors =eigen_vectors[:,indexes]"
   ]
  },
  {
   "cell_type": "code",
   "execution_count": 20,
   "id": "f1941b96",
   "metadata": {},
   "outputs": [
    {
     "name": "stdout",
     "output_type": "stream",
     "text": [
      "Percentage varience explained by eigen vector 1 : 99.12\n",
      "Percentage varience explained by eigen vector 2 : 0.88\n",
      "Percentage varience explained by eigen vector 3 : -0.0\n",
      "Percentage varience explained by eigen vector 4 : -0.0\n"
     ]
    }
   ],
   "source": [
    "#Percentage variance explained by each eigen vector\n",
    "for i in range(len(eigen_vals)):\n",
    "    print(\"Percentage varience explained by eigen vector\",str(i+1),\":\", np.round((eigen_vals[i]/sum(eigen_vals)).real*100,2))"
   ]
  },
  {
   "cell_type": "code",
   "execution_count": 21,
   "id": "360cd9ff",
   "metadata": {},
   "outputs": [
    {
     "name": "stdout",
     "output_type": "stream",
     "text": [
      "Length of Eigen vector 1 : 1.0\n",
      "Length of Eigen vector 2 : 1.0\n",
      "Length of Eigen vector 3 : 0.9999999999999997\n",
      "Length of Eigen vector 4 : 0.9999999999999997\n"
     ]
    }
   ],
   "source": [
    "#showing that each eigen vector is a unit vector\n",
    "for i in range(len(eigen_vals)):\n",
    "    print(\"Length of Eigen vector\",str(i+1),\":\",np.linalg.norm(eigen_vectors[:,i]))"
   ]
  },
  {
   "cell_type": "markdown",
   "id": "d3f247ad",
   "metadata": {},
   "source": [
    "## Since top 2 eigen vectors explain the variance we shall select those 2"
   ]
  },
  {
   "cell_type": "code",
   "execution_count": 22,
   "id": "5a4b7036",
   "metadata": {},
   "outputs": [
    {
     "data": {
      "text/plain": [
       "array([[ 1, 22],\n",
       "       [ 2, 45]])"
      ]
     },
     "execution_count": 22,
     "metadata": {},
     "output_type": "execute_result"
    }
   ],
   "source": [
    "#example of hstack\n",
    "A = np.array([1,2])\n",
    "B = np.array([22,45])\n",
    "temp = np.hstack((A.reshape(2,1),B.reshape(2,1)))\n",
    "temp"
   ]
  },
  {
   "cell_type": "code",
   "execution_count": 23,
   "id": "d91e5a76",
   "metadata": {},
   "outputs": [
    {
     "data": {
      "text/plain": [
       "array([[-0.20874182+0.j, -0.00653196+0.j],\n",
       "       [-0.38620369+0.j, -0.58661055+0.j],\n",
       "       [ 0.55401172+0.j,  0.25256154+0.j],\n",
       "       [ 0.7073504 +0.j, -0.76945309+0.j]])"
      ]
     },
     "execution_count": 23,
     "metadata": {},
     "output_type": "execute_result"
    }
   ],
   "source": [
    "#Stack arrays in sequence horizontally (column wise).\n",
    "#stack the eigen vector1 and eigen vecotr2 horizontally\n",
    "W = np.hstack((eigen_vectors[:,0].reshape(4,1),eigen_vectors[:,1].reshape(4,1)))\n",
    "W"
   ]
  },
  {
   "cell_type": "code",
   "execution_count": 24,
   "id": "1f498cfc",
   "metadata": {},
   "outputs": [],
   "source": [
    "#or we can choose W = eigen_vectors[:,:2]"
   ]
  },
  {
   "cell_type": "markdown",
   "id": "e479d44a",
   "metadata": {},
   "source": [
    "## Step 5: Transforming the data onto the new subspace"
   ]
  },
  {
   "cell_type": "markdown",
   "id": "28736645",
   "metadata": {},
   "source": [
    "> Y = X * W\n",
    "> X = 150*4\n",
    "> W = 4*2 \n",
    "\n",
    "> so Y will be 150*2"
   ]
  },
  {
   "cell_type": "code",
   "execution_count": 25,
   "id": "52aa4569",
   "metadata": {},
   "outputs": [],
   "source": [
    "X_lda = np.dot(iris_df[feature_names],W)\n",
    "assert X_lda.shape == (150,2), \"The matrix is not 150x2 dimensional.\""
   ]
  },
  {
   "cell_type": "markdown",
   "id": "ba36512b",
   "metadata": {},
   "source": [
    "### Plotting"
   ]
  },
  {
   "cell_type": "code",
   "execution_count": 26,
   "id": "84438a7f",
   "metadata": {},
   "outputs": [],
   "source": [
    "from matplotlib import pyplot as plt\n",
    "\n",
    "def plot_lda_pca(x_transformed,option='LDA'):\n",
    "    \n",
    "    \n",
    "        for target,marker,color in zip(range(0,3),('^', 's', 'o'),('blue', 'red', 'green')):\n",
    "\n",
    "            plt.scatter(\n",
    "                    x=x_transformed[:,0].real[iris_df['target'] == target], #taking the LD1 values corresponding to target on x axis\n",
    "                    y=x_transformed[:,1].real[iris_df['target'] == target], #taking the LD2 values corresponding to target on y axis\n",
    "                    marker=marker,\n",
    "                    color=color,\n",
    "                    alpha=0.5,\n",
    "                    label=feature_names[target]\n",
    "                    )\n",
    "            if option == 'LDA':\n",
    "\n",
    "                plt.xlabel('LD1')\n",
    "                plt.ylabel('LD2')\n",
    "                plt.legend(loc='upper right', fancybox=True)\n",
    "                plt.title('LDA: Iris projection onto the first 2 linear discriminants')\n",
    "                plt.grid()\n",
    "                plt.tight_layout\n",
    "        \n",
    "            elif option == 'PCA':\n",
    "                plt.xlabel('PC1')\n",
    "                plt.ylabel('PC2')\n",
    "                plt.legend(loc='upper right', fancybox=True)\n",
    "                plt.title('PCA: Iris projection onto the first 2 pricipal components')\n",
    "                plt.grid()\n",
    "                plt.tight_layout\n",
    "            else:\n",
    "                return \"Pass correct option\""
   ]
  },
  {
   "cell_type": "raw",
   "id": "82356072",
   "metadata": {},
   "source": [
    "## Inference:\n",
    "LD1 seperates the classes well\n",
    "where as LD2 doesnt\n",
    "it is also evident from the percentage of variance explained"
   ]
  },
  {
   "cell_type": "code",
   "execution_count": 27,
   "id": "9777b633",
   "metadata": {},
   "outputs": [
    {
     "name": "stdout",
     "output_type": "stream",
     "text": [
      "Explained variance by the PC1 and PC2 respectively\n",
      "[0.92461872 0.05306648]\n"
     ]
    }
   ],
   "source": [
    "## perform the PCA on the data and comapre with LDA\n",
    "from sklearn.decomposition import PCA\n",
    "\n",
    "pca = PCA(n_components=2)\n",
    "x_pca = pca.fit_transform(iris_df[feature_names])\n",
    "print(\"Explained variance by the PC1 and PC2 respectively\")\n",
    "print(pca.explained_variance_ratio_)"
   ]
  },
  {
   "cell_type": "code",
   "execution_count": 28,
   "id": "d797c3bc",
   "metadata": {},
   "outputs": [
    {
     "data": {
      "image/png": "[encoded data removed]",
      "text/plain": [
       "<Figure size 720x720 with 2 Axes>"
      ]
     },
     "metadata": {
      "needs_background": "light"
     },
     "output_type": "display_data"
    }
   ],
   "source": [
    "fig = plt.figure(figsize=(10,10))\n",
    "plt.subplot(2,1,1)\n",
    "plot_lda_pca(X_lda,\"LDA\")\n",
    "plt.subplot(2,1,2)\n",
    "plot_lda_pca(x_pca,\"PCA\")"
   ]
  },
  {
   "cell_type": "markdown",
   "id": "e0b3deaf",
   "metadata": {},
   "source": [
    "## Inference:\n",
    "The LDA performs betters in terms of separating the classes\n",
    "The PCA tries to capture maximum variation in data"
   ]
  },
  {
   "cell_type": "code",
   "execution_count": 29,
   "id": "faca3790",
   "metadata": {},
   "outputs": [],
   "source": [
    "## LDA using the sklearn library"
   ]
  },
  {
   "cell_type": "code",
   "execution_count": 30,
   "id": "d24269f4",
   "metadata": {},
   "outputs": [],
   "source": [
    "from sklearn.discriminant_analysis import LinearDiscriminantAnalysis\n",
    "lda = LinearDiscriminantAnalysis(n_components=2)\n",
    "X_lda_sklearn = lda.fit_transform(iris_df[feature_names], iris_df['target'])"
   ]
  },
  {
   "cell_type": "code",
   "execution_count": 31,
   "id": "c09d7c4c",
   "metadata": {
    "scrolled": true
   },
   "outputs": [
    {
     "data": {
      "text/plain": [
       "array([0.9912126, 0.0087874])"
      ]
     },
     "execution_count": 31,
     "metadata": {},
     "output_type": "execute_result"
    }
   ],
   "source": [
    "lda.explained_variance_ratio_"
   ]
  },
  {
   "cell_type": "code",
   "execution_count": 32,
   "id": "a4ede057",
   "metadata": {},
   "outputs": [
    {
     "data": {
      "image/png": "[encoded data removed]",
      "text/plain": [
       "<Figure size 432x288 with 1 Axes>"
      ]
     },
     "metadata": {
      "needs_background": "light"
     },
     "output_type": "display_data"
    }
   ],
   "source": [
    "plot_lda_pca(X_lda_sklearn,\"LDA\")"
   ]
  },
  {
   "cell_type": "code",
   "execution_count": 33,
   "id": "616cc60f",
   "metadata": {},
   "outputs": [],
   "source": [
    "from sklearn.preprocessing import StandardScaler\n",
    "sc = StandardScaler()\n",
    "x_std = sc.fit_transform(iris_df[feature_names])"
   ]
  },
  {
   "cell_type": "code",
   "execution_count": 34,
   "id": "06cb2383",
   "metadata": {},
   "outputs": [],
   "source": [
    "X_lda_sklearn2 = lda.fit_transform(x_std, iris_df['target'])"
   ]
  },
  {
   "cell_type": "code",
   "execution_count": 35,
   "id": "ebd96381",
   "metadata": {},
   "outputs": [
    {
     "data": {
      "image/png": "[encoded data removed]",
      "text/plain": [
       "<Figure size 432x288 with 1 Axes>"
      ]
     },
     "metadata": {
      "needs_background": "light"
     },
     "output_type": "display_data"
    }
   ],
   "source": [
    "plot_lda_pca(X_lda_sklearn2,\"LDA\")"
   ]
  },
  {
   "cell_type": "code",
   "execution_count": 36,
   "id": "dad9dba8",
   "metadata": {},
   "outputs": [],
   "source": [
    "X_pca_sklearn = pca.fit_transform(x_std, iris_df['target'])"
   ]
  },
  {
   "cell_type": "code",
   "execution_count": 37,
   "id": "a251ff16",
   "metadata": {},
   "outputs": [
    {
     "data": {
      "image/png": "[encoded data removed]",
      "text/plain": [
       "<Figure size 432x288 with 1 Axes>"
      ]
     },
     "metadata": {
      "needs_background": "light"
     },
     "output_type": "display_data"
    }
   ],
   "source": [
    "plot_lda_pca(X_pca_sklearn,\"PCA\")"
   ]
  }
 ],
 "metadata": {
  "kernelspec": {
   "display_name": "Python 3 (ipykernel)",
   "language": "python",
   "name": "python3"
  },
  "language_info": {
   "codemirror_mode": {
    "name": "ipython",
    "version": 3
   },
   "file_extension": ".py",
   "mimetype": "text/x-python",
   "name": "python",
   "nbconvert_exporter": "python",
   "pygments_lexer": "ipython3",
   "version": "3.9.12"
  }
 },
 "nbformat": 4,
 "nbformat_minor": 5
}
